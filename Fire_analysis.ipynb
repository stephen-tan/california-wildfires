{
 "cells": [
  {
   "cell_type": "code",
   "execution_count": 1,
   "id": "bb33974b",
   "metadata": {},
   "outputs": [],
   "source": [
    "import pandas as pd\n",
    "import numpy as np\n",
    "from sklearn.preprocessing import OneHotEncoder, StandardScaler\n",
    "from sklearn.model_selection import train_test_split\n"
   ]
  },
  {
   "cell_type": "code",
   "execution_count": 2,
   "id": "4f2b7a21",
   "metadata": {
    "scrolled": true
   },
   "outputs": [],
   "source": [
    "path = 'California_Fire_Incidents.xlsx'\n",
    "fire = pd.read_excel(path)\n",
    "columns = ['AcresBurned', 'AirTankers', 'AdminUnit', 'Counties', 'CountyIds', 'Engines', 'Latitude', 'Longitude', 'Started']"
   ]
  },
  {
   "cell_type": "code",
   "execution_count": 3,
   "id": "491b9378",
   "metadata": {
    "scrolled": true
   },
   "outputs": [
    {
     "data": {
      "text/html": [
       "<div>\n",
       "<style scoped>\n",
       "    .dataframe tbody tr th:only-of-type {\n",
       "        vertical-align: middle;\n",
       "    }\n",
       "\n",
       "    .dataframe tbody tr th {\n",
       "        vertical-align: top;\n",
       "    }\n",
       "\n",
       "    .dataframe thead th {\n",
       "        text-align: right;\n",
       "    }\n",
       "</style>\n",
       "<table border=\"1\" class=\"dataframe\">\n",
       "  <thead>\n",
       "    <tr style=\"text-align: right;\">\n",
       "      <th></th>\n",
       "      <th>AcresBurned</th>\n",
       "      <th>AirTankers</th>\n",
       "      <th>AdminUnit</th>\n",
       "      <th>Counties</th>\n",
       "      <th>CountyIds</th>\n",
       "      <th>Engines</th>\n",
       "      <th>Latitude</th>\n",
       "      <th>Longitude</th>\n",
       "      <th>Started</th>\n",
       "    </tr>\n",
       "  </thead>\n",
       "  <tbody>\n",
       "    <tr>\n",
       "      <th>0</th>\n",
       "      <td>257314.0</td>\n",
       "      <td>NaN</td>\n",
       "      <td>Stanislaus National Forest/Yosemite National Park</td>\n",
       "      <td>Tuolumne</td>\n",
       "      <td>55</td>\n",
       "      <td>NaN</td>\n",
       "      <td>37.857000</td>\n",
       "      <td>-120.086000</td>\n",
       "      <td>2013-08-17T15:25:00Z</td>\n",
       "    </tr>\n",
       "    <tr>\n",
       "      <th>1</th>\n",
       "      <td>30274.0</td>\n",
       "      <td>NaN</td>\n",
       "      <td>USFS Angeles National Forest/Los Angeles Count...</td>\n",
       "      <td>Los Angeles</td>\n",
       "      <td>19</td>\n",
       "      <td>NaN</td>\n",
       "      <td>34.585595</td>\n",
       "      <td>-118.423176</td>\n",
       "      <td>2013-05-30T15:28:00Z</td>\n",
       "    </tr>\n",
       "    <tr>\n",
       "      <th>2</th>\n",
       "      <td>27531.0</td>\n",
       "      <td>NaN</td>\n",
       "      <td>CAL FIRE Riverside Unit / San Bernardino Natio...</td>\n",
       "      <td>Riverside</td>\n",
       "      <td>33</td>\n",
       "      <td>NaN</td>\n",
       "      <td>33.709500</td>\n",
       "      <td>-116.728850</td>\n",
       "      <td>2013-07-15T13:43:00Z</td>\n",
       "    </tr>\n",
       "    <tr>\n",
       "      <th>3</th>\n",
       "      <td>27440.0</td>\n",
       "      <td>NaN</td>\n",
       "      <td>Tahoe National Forest</td>\n",
       "      <td>Placer</td>\n",
       "      <td>31</td>\n",
       "      <td>NaN</td>\n",
       "      <td>39.120000</td>\n",
       "      <td>-120.650000</td>\n",
       "      <td>2013-08-10T16:30:00Z</td>\n",
       "    </tr>\n",
       "    <tr>\n",
       "      <th>4</th>\n",
       "      <td>24251.0</td>\n",
       "      <td>NaN</td>\n",
       "      <td>Ventura County Fire/CAL FIRE</td>\n",
       "      <td>Ventura</td>\n",
       "      <td>56</td>\n",
       "      <td>117.0</td>\n",
       "      <td>0.000000</td>\n",
       "      <td>0.000000</td>\n",
       "      <td>2013-05-02T07:01:00Z</td>\n",
       "    </tr>\n",
       "    <tr>\n",
       "      <th>...</th>\n",
       "      <td>...</td>\n",
       "      <td>...</td>\n",
       "      <td>...</td>\n",
       "      <td>...</td>\n",
       "      <td>...</td>\n",
       "      <td>...</td>\n",
       "      <td>...</td>\n",
       "      <td>...</td>\n",
       "      <td>...</td>\n",
       "    </tr>\n",
       "    <tr>\n",
       "      <th>1631</th>\n",
       "      <td>9.0</td>\n",
       "      <td>NaN</td>\n",
       "      <td>CAL FIRE / Riverside County Fire</td>\n",
       "      <td>Riverside</td>\n",
       "      <td>33</td>\n",
       "      <td>NaN</td>\n",
       "      <td>33.827979</td>\n",
       "      <td>-117.499619</td>\n",
       "      <td>2019-10-10T12:08:00Z</td>\n",
       "    </tr>\n",
       "    <tr>\n",
       "      <th>1632</th>\n",
       "      <td>2.0</td>\n",
       "      <td>NaN</td>\n",
       "      <td>CAL FIRE Nevada-Yuba-Placer Unit</td>\n",
       "      <td>Nevada</td>\n",
       "      <td>29</td>\n",
       "      <td>NaN</td>\n",
       "      <td>39.409722</td>\n",
       "      <td>-121.000556</td>\n",
       "      <td>2019-06-28T15:03:04Z</td>\n",
       "    </tr>\n",
       "    <tr>\n",
       "      <th>1633</th>\n",
       "      <td>NaN</td>\n",
       "      <td>NaN</td>\n",
       "      <td>Yolo County Fire Protection District</td>\n",
       "      <td>Yolo</td>\n",
       "      <td>57</td>\n",
       "      <td>NaN</td>\n",
       "      <td>38.734634</td>\n",
       "      <td>-121.729691</td>\n",
       "      <td>2019-11-25T12:02:02Z</td>\n",
       "    </tr>\n",
       "    <tr>\n",
       "      <th>1634</th>\n",
       "      <td>NaN</td>\n",
       "      <td>NaN</td>\n",
       "      <td>Camp Pendleton Marine Corps Base</td>\n",
       "      <td>San Diego</td>\n",
       "      <td>37</td>\n",
       "      <td>NaN</td>\n",
       "      <td>33.351145</td>\n",
       "      <td>-117.403719</td>\n",
       "      <td>2019-10-22T19:20:44Z</td>\n",
       "    </tr>\n",
       "    <tr>\n",
       "      <th>1635</th>\n",
       "      <td>NaN</td>\n",
       "      <td>NaN</td>\n",
       "      <td>Bureau of Indian Affairs</td>\n",
       "      <td>Riverside</td>\n",
       "      <td>33</td>\n",
       "      <td>NaN</td>\n",
       "      <td>33.451480</td>\n",
       "      <td>-116.058980</td>\n",
       "      <td>2019-10-14T15:32:20Z</td>\n",
       "    </tr>\n",
       "  </tbody>\n",
       "</table>\n",
       "<p>1636 rows × 9 columns</p>\n",
       "</div>"
      ],
      "text/plain": [
       "      AcresBurned  AirTankers  \\\n",
       "0        257314.0         NaN   \n",
       "1         30274.0         NaN   \n",
       "2         27531.0         NaN   \n",
       "3         27440.0         NaN   \n",
       "4         24251.0         NaN   \n",
       "...           ...         ...   \n",
       "1631          9.0         NaN   \n",
       "1632          2.0         NaN   \n",
       "1633          NaN         NaN   \n",
       "1634          NaN         NaN   \n",
       "1635          NaN         NaN   \n",
       "\n",
       "                                              AdminUnit     Counties  \\\n",
       "0     Stanislaus National Forest/Yosemite National Park     Tuolumne   \n",
       "1     USFS Angeles National Forest/Los Angeles Count...  Los Angeles   \n",
       "2     CAL FIRE Riverside Unit / San Bernardino Natio...    Riverside   \n",
       "3                                 Tahoe National Forest       Placer   \n",
       "4                          Ventura County Fire/CAL FIRE      Ventura   \n",
       "...                                                 ...          ...   \n",
       "1631                   CAL FIRE / Riverside County Fire    Riverside   \n",
       "1632                   CAL FIRE Nevada-Yuba-Placer Unit       Nevada   \n",
       "1633               Yolo County Fire Protection District         Yolo   \n",
       "1634                   Camp Pendleton Marine Corps Base    San Diego   \n",
       "1635                           Bureau of Indian Affairs    Riverside   \n",
       "\n",
       "     CountyIds  Engines   Latitude   Longitude               Started  \n",
       "0           55      NaN  37.857000 -120.086000  2013-08-17T15:25:00Z  \n",
       "1           19      NaN  34.585595 -118.423176  2013-05-30T15:28:00Z  \n",
       "2           33      NaN  33.709500 -116.728850  2013-07-15T13:43:00Z  \n",
       "3           31      NaN  39.120000 -120.650000  2013-08-10T16:30:00Z  \n",
       "4           56    117.0   0.000000    0.000000  2013-05-02T07:01:00Z  \n",
       "...        ...      ...        ...         ...                   ...  \n",
       "1631        33      NaN  33.827979 -117.499619  2019-10-10T12:08:00Z  \n",
       "1632        29      NaN  39.409722 -121.000556  2019-06-28T15:03:04Z  \n",
       "1633        57      NaN  38.734634 -121.729691  2019-11-25T12:02:02Z  \n",
       "1634        37      NaN  33.351145 -117.403719  2019-10-22T19:20:44Z  \n",
       "1635        33      NaN  33.451480 -116.058980  2019-10-14T15:32:20Z  \n",
       "\n",
       "[1636 rows x 9 columns]"
      ]
     },
     "execution_count": 3,
     "metadata": {},
     "output_type": "execute_result"
    }
   ],
   "source": [
    "fire_df = fire[columns]\n",
    "fire_df"
   ]
  },
  {
   "cell_type": "code",
   "execution_count": 4,
   "id": "8f4ca340",
   "metadata": {
    "scrolled": true
   },
   "outputs": [
    {
     "data": {
      "text/plain": [
       "AcresBurned       3\n",
       "AirTankers     1608\n",
       "AdminUnit         0\n",
       "Counties          0\n",
       "CountyIds         0\n",
       "Engines        1445\n",
       "Latitude          0\n",
       "Longitude         0\n",
       "Started           0\n",
       "dtype: int64"
      ]
     },
     "execution_count": 4,
     "metadata": {},
     "output_type": "execute_result"
    }
   ],
   "source": [
    "fire_df.isna().sum()"
   ]
  },
  {
   "cell_type": "code",
   "execution_count": 5,
   "id": "d2588951",
   "metadata": {},
   "outputs": [],
   "source": [
    "fire_df = fire_df.drop(['AirTankers', 'Engines', 'AdminUnit'], axis=1)\n",
    "fire_df = fire_df.dropna()"
   ]
  },
  {
   "cell_type": "code",
   "execution_count": 6,
   "id": "1b65e7c4",
   "metadata": {},
   "outputs": [
    {
     "data": {
      "text/html": [
       "<div>\n",
       "<style scoped>\n",
       "    .dataframe tbody tr th:only-of-type {\n",
       "        vertical-align: middle;\n",
       "    }\n",
       "\n",
       "    .dataframe tbody tr th {\n",
       "        vertical-align: top;\n",
       "    }\n",
       "\n",
       "    .dataframe thead th {\n",
       "        text-align: right;\n",
       "    }\n",
       "</style>\n",
       "<table border=\"1\" class=\"dataframe\">\n",
       "  <thead>\n",
       "    <tr style=\"text-align: right;\">\n",
       "      <th></th>\n",
       "      <th>AcresBurned</th>\n",
       "      <th>Counties</th>\n",
       "      <th>CountyIds</th>\n",
       "      <th>Latitude</th>\n",
       "      <th>Longitude</th>\n",
       "      <th>Started</th>\n",
       "    </tr>\n",
       "  </thead>\n",
       "  <tbody>\n",
       "    <tr>\n",
       "      <th>0</th>\n",
       "      <td>257314.0</td>\n",
       "      <td>Tuolumne</td>\n",
       "      <td>55</td>\n",
       "      <td>37.857000</td>\n",
       "      <td>-120.086000</td>\n",
       "      <td>2013-08-17T15:25:00Z</td>\n",
       "    </tr>\n",
       "    <tr>\n",
       "      <th>1</th>\n",
       "      <td>30274.0</td>\n",
       "      <td>Los Angeles</td>\n",
       "      <td>19</td>\n",
       "      <td>34.585595</td>\n",
       "      <td>-118.423176</td>\n",
       "      <td>2013-05-30T15:28:00Z</td>\n",
       "    </tr>\n",
       "    <tr>\n",
       "      <th>2</th>\n",
       "      <td>27531.0</td>\n",
       "      <td>Riverside</td>\n",
       "      <td>33</td>\n",
       "      <td>33.709500</td>\n",
       "      <td>-116.728850</td>\n",
       "      <td>2013-07-15T13:43:00Z</td>\n",
       "    </tr>\n",
       "    <tr>\n",
       "      <th>3</th>\n",
       "      <td>27440.0</td>\n",
       "      <td>Placer</td>\n",
       "      <td>31</td>\n",
       "      <td>39.120000</td>\n",
       "      <td>-120.650000</td>\n",
       "      <td>2013-08-10T16:30:00Z</td>\n",
       "    </tr>\n",
       "    <tr>\n",
       "      <th>4</th>\n",
       "      <td>24251.0</td>\n",
       "      <td>Ventura</td>\n",
       "      <td>56</td>\n",
       "      <td>0.000000</td>\n",
       "      <td>0.000000</td>\n",
       "      <td>2013-05-02T07:01:00Z</td>\n",
       "    </tr>\n",
       "  </tbody>\n",
       "</table>\n",
       "</div>"
      ],
      "text/plain": [
       "   AcresBurned     Counties CountyIds   Latitude   Longitude  \\\n",
       "0     257314.0     Tuolumne        55  37.857000 -120.086000   \n",
       "1      30274.0  Los Angeles        19  34.585595 -118.423176   \n",
       "2      27531.0    Riverside        33  33.709500 -116.728850   \n",
       "3      27440.0       Placer        31  39.120000 -120.650000   \n",
       "4      24251.0      Ventura        56   0.000000    0.000000   \n",
       "\n",
       "                Started  \n",
       "0  2013-08-17T15:25:00Z  \n",
       "1  2013-05-30T15:28:00Z  \n",
       "2  2013-07-15T13:43:00Z  \n",
       "3  2013-08-10T16:30:00Z  \n",
       "4  2013-05-02T07:01:00Z  "
      ]
     },
     "execution_count": 6,
     "metadata": {},
     "output_type": "execute_result"
    }
   ],
   "source": [
    "fire_df.head()"
   ]
  },
  {
   "cell_type": "code",
   "execution_count": 7,
   "id": "34f26cbb",
   "metadata": {
    "scrolled": true
   },
   "outputs": [
    {
     "data": {
      "text/plain": [
       "AcresBurned    float64\n",
       "Counties        object\n",
       "CountyIds       object\n",
       "Latitude       float64\n",
       "Longitude      float64\n",
       "Started         object\n",
       "dtype: object"
      ]
     },
     "execution_count": 7,
     "metadata": {},
     "output_type": "execute_result"
    }
   ],
   "source": [
    "fire_df.dtypes"
   ]
  },
  {
   "cell_type": "code",
   "execution_count": 8,
   "id": "f43ff59d",
   "metadata": {},
   "outputs": [],
   "source": [
    "months = []\n",
    "years = []\n",
    "for index, row in fire_df.iterrows():\n",
    "   #print(date)\n",
    "    month = row['Started'].split('-')[1]\n",
    "    year = row['Started'].split('-')[0]\n",
    "    months.append(np.float32(month))\n",
    "    years.append(np.float32(year))"
   ]
  },
  {
   "cell_type": "code",
   "execution_count": 9,
   "id": "52a0eda3",
   "metadata": {
    "scrolled": true
   },
   "outputs": [
    {
     "data": {
      "text/html": [
       "<div>\n",
       "<style scoped>\n",
       "    .dataframe tbody tr th:only-of-type {\n",
       "        vertical-align: middle;\n",
       "    }\n",
       "\n",
       "    .dataframe tbody tr th {\n",
       "        vertical-align: top;\n",
       "    }\n",
       "\n",
       "    .dataframe thead th {\n",
       "        text-align: right;\n",
       "    }\n",
       "</style>\n",
       "<table border=\"1\" class=\"dataframe\">\n",
       "  <thead>\n",
       "    <tr style=\"text-align: right;\">\n",
       "      <th></th>\n",
       "      <th>AcresBurned</th>\n",
       "      <th>Counties</th>\n",
       "      <th>CountyIds</th>\n",
       "      <th>Latitude</th>\n",
       "      <th>Longitude</th>\n",
       "      <th>Month</th>\n",
       "      <th>Year</th>\n",
       "    </tr>\n",
       "  </thead>\n",
       "  <tbody>\n",
       "    <tr>\n",
       "      <th>0</th>\n",
       "      <td>257314.0</td>\n",
       "      <td>Tuolumne</td>\n",
       "      <td>55</td>\n",
       "      <td>37.857000</td>\n",
       "      <td>-120.086000</td>\n",
       "      <td>8.0</td>\n",
       "      <td>2013.0</td>\n",
       "    </tr>\n",
       "    <tr>\n",
       "      <th>1</th>\n",
       "      <td>30274.0</td>\n",
       "      <td>Los Angeles</td>\n",
       "      <td>19</td>\n",
       "      <td>34.585595</td>\n",
       "      <td>-118.423176</td>\n",
       "      <td>5.0</td>\n",
       "      <td>2013.0</td>\n",
       "    </tr>\n",
       "    <tr>\n",
       "      <th>2</th>\n",
       "      <td>27531.0</td>\n",
       "      <td>Riverside</td>\n",
       "      <td>33</td>\n",
       "      <td>33.709500</td>\n",
       "      <td>-116.728850</td>\n",
       "      <td>7.0</td>\n",
       "      <td>2013.0</td>\n",
       "    </tr>\n",
       "    <tr>\n",
       "      <th>3</th>\n",
       "      <td>27440.0</td>\n",
       "      <td>Placer</td>\n",
       "      <td>31</td>\n",
       "      <td>39.120000</td>\n",
       "      <td>-120.650000</td>\n",
       "      <td>8.0</td>\n",
       "      <td>2013.0</td>\n",
       "    </tr>\n",
       "    <tr>\n",
       "      <th>4</th>\n",
       "      <td>24251.0</td>\n",
       "      <td>Ventura</td>\n",
       "      <td>56</td>\n",
       "      <td>0.000000</td>\n",
       "      <td>0.000000</td>\n",
       "      <td>5.0</td>\n",
       "      <td>2013.0</td>\n",
       "    </tr>\n",
       "  </tbody>\n",
       "</table>\n",
       "</div>"
      ],
      "text/plain": [
       "   AcresBurned     Counties CountyIds   Latitude   Longitude  Month    Year\n",
       "0     257314.0     Tuolumne        55  37.857000 -120.086000    8.0  2013.0\n",
       "1      30274.0  Los Angeles        19  34.585595 -118.423176    5.0  2013.0\n",
       "2      27531.0    Riverside        33  33.709500 -116.728850    7.0  2013.0\n",
       "3      27440.0       Placer        31  39.120000 -120.650000    8.0  2013.0\n",
       "4      24251.0      Ventura        56   0.000000    0.000000    5.0  2013.0"
      ]
     },
     "execution_count": 9,
     "metadata": {},
     "output_type": "execute_result"
    }
   ],
   "source": [
    "fire_df = fire_df.drop('Started', axis=1)\n",
    "fire_df['Month'] = months\n",
    "fire_df['Year'] = years\n",
    "fire_df.head()"
   ]
  },
  {
   "cell_type": "code",
   "execution_count": 10,
   "id": "063e6d4c",
   "metadata": {},
   "outputs": [],
   "source": [
    "labels = fire_df['Counties']\n",
    "features = fire_df.drop(['Counties', 'CountyIds'], axis=1)"
   ]
  },
  {
   "cell_type": "code",
   "execution_count": 11,
   "id": "4d561e0e",
   "metadata": {
    "scrolled": false
   },
   "outputs": [
    {
     "data": {
      "text/html": [
       "<div>\n",
       "<style scoped>\n",
       "    .dataframe tbody tr th:only-of-type {\n",
       "        vertical-align: middle;\n",
       "    }\n",
       "\n",
       "    .dataframe tbody tr th {\n",
       "        vertical-align: top;\n",
       "    }\n",
       "\n",
       "    .dataframe thead th {\n",
       "        text-align: right;\n",
       "    }\n",
       "</style>\n",
       "<table border=\"1\" class=\"dataframe\">\n",
       "  <thead>\n",
       "    <tr style=\"text-align: right;\">\n",
       "      <th></th>\n",
       "      <th>AcresBurned</th>\n",
       "      <th>Latitude</th>\n",
       "      <th>Longitude</th>\n",
       "      <th>Month</th>\n",
       "      <th>Year</th>\n",
       "    </tr>\n",
       "  </thead>\n",
       "  <tbody>\n",
       "    <tr>\n",
       "      <th>0</th>\n",
       "      <td>9.271578</td>\n",
       "      <td>37.857000</td>\n",
       "      <td>-120.086000</td>\n",
       "      <td>8.0</td>\n",
       "      <td>2013.0</td>\n",
       "    </tr>\n",
       "    <tr>\n",
       "      <th>1</th>\n",
       "      <td>0.942276</td>\n",
       "      <td>34.585595</td>\n",
       "      <td>-118.423176</td>\n",
       "      <td>5.0</td>\n",
       "      <td>2013.0</td>\n",
       "    </tr>\n",
       "    <tr>\n",
       "      <th>2</th>\n",
       "      <td>0.841645</td>\n",
       "      <td>33.709500</td>\n",
       "      <td>-116.728850</td>\n",
       "      <td>7.0</td>\n",
       "      <td>2013.0</td>\n",
       "    </tr>\n",
       "    <tr>\n",
       "      <th>3</th>\n",
       "      <td>0.838307</td>\n",
       "      <td>39.120000</td>\n",
       "      <td>-120.650000</td>\n",
       "      <td>8.0</td>\n",
       "      <td>2013.0</td>\n",
       "    </tr>\n",
       "    <tr>\n",
       "      <th>4</th>\n",
       "      <td>0.721314</td>\n",
       "      <td>0.000000</td>\n",
       "      <td>0.000000</td>\n",
       "      <td>5.0</td>\n",
       "      <td>2013.0</td>\n",
       "    </tr>\n",
       "  </tbody>\n",
       "</table>\n",
       "</div>"
      ],
      "text/plain": [
       "   AcresBurned   Latitude   Longitude  Month    Year\n",
       "0     9.271578  37.857000 -120.086000    8.0  2013.0\n",
       "1     0.942276  34.585595 -118.423176    5.0  2013.0\n",
       "2     0.841645  33.709500 -116.728850    7.0  2013.0\n",
       "3     0.838307  39.120000 -120.650000    8.0  2013.0\n",
       "4     0.721314   0.000000    0.000000    5.0  2013.0"
      ]
     },
     "execution_count": 11,
     "metadata": {},
     "output_type": "execute_result"
    }
   ],
   "source": [
    "one_hot_labels = pd.get_dummies(labels).to_numpy()\n",
    "scaler = StandardScaler()\n",
    "acres = features['AcresBurned'].to_numpy().reshape(-1,1)\n",
    "features['AcresBurned'] = scaler.fit_transform(acres)\n",
    "features.head()"
   ]
  },
  {
   "cell_type": "code",
   "execution_count": 12,
   "id": "e82257b1",
   "metadata": {},
   "outputs": [],
   "source": [
    "features.to_csv('cleaned_firedata.csv')"
   ]
  },
  {
   "cell_type": "code",
   "execution_count": 13,
   "id": "c155bfdb",
   "metadata": {},
   "outputs": [
    {
     "name": "stdout",
     "output_type": "stream",
     "text": [
      "(1633, 5)\n"
     ]
    },
    {
     "data": {
      "text/plain": [
       "(1633, 59)"
      ]
     },
     "execution_count": 13,
     "metadata": {},
     "output_type": "execute_result"
    }
   ],
   "source": [
    "print(features.shape)\n",
    "one_hot_labels.shape"
   ]
  },
  {
   "cell_type": "code",
   "execution_count": 14,
   "id": "d4954bf2",
   "metadata": {},
   "outputs": [],
   "source": [
    "X_train, X_test, y_train, y_test = train_test_split(features, one_hot_labels, test_size=0.2)"
   ]
  },
  {
   "cell_type": "markdown",
   "id": "3efc13b9",
   "metadata": {},
   "source": [
    "## Rough draft model\n"
   ]
  },
  {
   "cell_type": "code",
   "execution_count": 15,
   "id": "6606014f",
   "metadata": {},
   "outputs": [],
   "source": [
    "import sys\n",
    "import os\n",
    "from sklearn.model_selection import train_test_split\n",
    "from sklearn.preprocessing import StandardScaler, MinMaxScaler\n",
    "from sklearn.metrics import classification_report, confusion_matrix\n",
    "\n",
    "import tensorflow as tf\n",
    "# from tensorflow import keras\n",
    "from tensorflow.keras import layers, Sequential, Input\n",
    "from tensorflow.keras.layers import Dense, Conv2D, MaxPool2D, Flatten, Dropout, concatenate, BatchNormalization\n",
    "# from tensorflow.keras.layers.core import *\n",
    "from tensorflow.keras.models import Model\n",
    "from tensorflow.keras.layers.experimental import preprocessing\n",
    "# from tensorflow.keras.applications.vgg16 import VGG16, preprocess_input\n"
   ]
  },
  {
   "cell_type": "markdown",
   "id": "af2aa3f4",
   "metadata": {},
   "source": [
    "def build_dnn():\n",
    "\n",
    "    \n",
    "    normalizer = layers.BatchNormalization(momentum=0.98, epsilon=.001, trainable=True)\n",
    "\n",
    "    model = Sequential([\n",
    "\n",
    "        #normalizer,\n",
    "        layers.Dense(24, activation='relu'),\n",
    "        layers.Dense(16, activation='relu'),\n",
    "        layers.Dense(8, activation='relu'),\n",
    "        layers.Dense(1)\n",
    "    ])\n",
    "    model = Model([img_input, num_input], out)\n",
    "    model.compile(loss='binary_crossentropy', optimizer=tf.keras.optimizers.Adam(0.0001), metrics=['accuracy'])\n",
    "    print(\"Model compiled\")\n",
    "    return model"
   ]
  },
  {
   "cell_type": "code",
   "execution_count": 42,
   "id": "ab17fa8b",
   "metadata": {},
   "outputs": [],
   "source": [
    "def build_dnn(input_shape, numclasses):\n",
    "    feature_input = Input(shape=input_shape)\n",
    "    model = Dense(64, activation='relu')(feature_input)\n",
    "    model = Dense(16, activation='relu')(model)\n",
    "    model = Dense(4, activation='relu')(model)\n",
    "    output = Dense(numclasses, activation='softmax')(model)\n",
    "    model = Model(inputs=feature_input, outputs=output)\n",
    "    print(model.summary())\n",
    "    return(model)"
   ]
  },
  {
   "cell_type": "code",
   "execution_count": 43,
   "id": "c2e8dfdd",
   "metadata": {},
   "outputs": [
    {
     "name": "stdout",
     "output_type": "stream",
     "text": [
      "Model: \"model_2\"\n",
      "_________________________________________________________________\n",
      "Layer (type)                 Output Shape              Param #   \n",
      "=================================================================\n",
      "input_3 (InputLayer)         [(None, 5)]               0         \n",
      "_________________________________________________________________\n",
      "dense_11 (Dense)             (None, 64)                384       \n",
      "_________________________________________________________________\n",
      "dense_12 (Dense)             (None, 16)                1040      \n",
      "_________________________________________________________________\n",
      "dense_13 (Dense)             (None, 4)                 68        \n",
      "_________________________________________________________________\n",
      "dense_14 (Dense)             (None, 59)                295       \n",
      "=================================================================\n",
      "Total params: 1,787\n",
      "Trainable params: 1,787\n",
      "Non-trainable params: 0\n",
      "_________________________________________________________________\n",
      "None\n"
     ]
    }
   ],
   "source": [
    "model = build_dnn((5,), len(one_hot_labels[0]))"
   ]
  },
  {
   "cell_type": "code",
   "execution_count": 44,
   "id": "36004210",
   "metadata": {
    "scrolled": true
   },
   "outputs": [
    {
     "name": "stdout",
     "output_type": "stream",
     "text": [
      "Epoch 1/8\n",
      "33/33 [==============================] - 0s 5ms/step - loss: 0.2832 - accuracy: 0.0201 - val_loss: 0.2837 - val_accuracy: 0.0115\n",
      "Epoch 2/8\n",
      "33/33 [==============================] - 0s 3ms/step - loss: 0.2707 - accuracy: 0.0249 - val_loss: 0.2820 - val_accuracy: 0.0115\n",
      "Epoch 3/8\n",
      "33/33 [==============================] - 0s 2ms/step - loss: 0.2703 - accuracy: 0.0412 - val_loss: 0.2820 - val_accuracy: 0.0115\n",
      "Epoch 4/8\n",
      "33/33 [==============================] - 0s 4ms/step - loss: 0.2703 - accuracy: 0.0421 - val_loss: 0.2819 - val_accuracy: 0.0115\n",
      "Epoch 5/8\n",
      "33/33 [==============================] - 0s 3ms/step - loss: 0.2702 - accuracy: 0.0421 - val_loss: 0.2820 - val_accuracy: 0.0115\n",
      "Epoch 6/8\n",
      "33/33 [==============================] - 0s 3ms/step - loss: 0.2702 - accuracy: 0.0460 - val_loss: 0.2819 - val_accuracy: 0.0115\n",
      "Epoch 7/8\n",
      "33/33 [==============================] - 0s 3ms/step - loss: 0.2701 - accuracy: 0.0441 - val_loss: 0.2819 - val_accuracy: 0.0115\n",
      "Epoch 8/8\n",
      "33/33 [==============================] - 0s 2ms/step - loss: 0.2701 - accuracy: 0.0469 - val_loss: 0.2820 - val_accuracy: 0.0115\n"
     ]
    },
    {
     "data": {
      "text/plain": [
       "[0.27423790097236633, 0.030581040307879448]"
      ]
     },
     "execution_count": 44,
     "metadata": {},
     "output_type": "execute_result"
    }
   ],
   "source": [
    "model.compile(loss='binary_crossentropy', optimizer=tf.keras.optimizers.Adam(0.0001), metrics=['accuracy'])\n",
    "\n",
    "model.fit(X_train, y_train, validation_split=0.2, epochs=8)\n",
    "model.evaluate(X_test, y_test, verbose=0)\n"
   ]
  },
  {
   "cell_type": "code",
   "execution_count": 45,
   "id": "7db168d3",
   "metadata": {
    "scrolled": true
   },
   "outputs": [
    {
     "name": "stdout",
     "output_type": "stream",
     "text": [
      "[[0.0000000e+00 0.0000000e+00 0.0000000e+00 ... 3.2098642e-25\n",
      "  6.2255321e-24 0.0000000e+00]\n",
      " [0.0000000e+00 0.0000000e+00 0.0000000e+00 ... 3.5419717e-25\n",
      "  7.6704685e-24 0.0000000e+00]\n",
      " [0.0000000e+00 0.0000000e+00 0.0000000e+00 ... 4.0680169e-25\n",
      "  9.7164723e-24 0.0000000e+00]\n",
      " ...\n",
      " [0.0000000e+00 0.0000000e+00 0.0000000e+00 ... 3.1045870e-25\n",
      "  5.9184372e-24 0.0000000e+00]\n",
      " [0.0000000e+00 0.0000000e+00 0.0000000e+00 ... 1.7919269e-25\n",
      "  3.1510674e-24 0.0000000e+00]\n",
      " [0.0000000e+00 0.0000000e+00 0.0000000e+00 ... 3.7622601e-25\n",
      "  7.2705634e-24 0.0000000e+00]]\n",
      "[13 13 13 13 13 13 13 13 13 13 13 13 13 13 13 13 13 13 13 13 13 13 13 13\n",
      " 13 13 13 13 13 13 13 13 13 13 13 13 13 13 13 13 13 13 13 13 13 13 13 13\n",
      " 13 13 13 13 13 13 13 13 13 13 13 13 13 13 13 13 13 13 13 13 13 13 13 13\n",
      " 13 13 13 13 13 13 13 13 13 13 13 13 13 13 13 13 13 13 13 13 13 13 13 13\n",
      " 13 13 13 13 13 13 13 13 13 13 13 13 13 13 13 13 13 13 13 13 13 13 13 13\n",
      " 13 13 13 13 13 13 13 13 13 13 13 13 13 13 13 13 13 13 13 13 13 13 13 13\n",
      " 13 13 13 13 13 13 13 13 13 13 13 29 13 13 13 13 13 13 13 13 13 13 13 13\n",
      " 13 13 13 13 13 13 13 13 13 13 13 13 13 13 13 13 13 13 13 13 13 13 13 13\n",
      " 13 13 13 13 13 13 13 13 13 13 13 13 13 13 13 13 13 13 13 13 13 13 13 13\n",
      " 13 13 13 13 13 13 13 13 13 13 13 13 13 13 13 13 13 13 13 13 13 13 13 13\n",
      " 13 13 13 13 13 13 13 13 13 13 13 13 13 13 13 13 13 13 13 13 13 13 13 13\n",
      " 13 13 13 13 13 13 13 13 13 13 13 13 13 13 13 13 13 13 13 13 13 13 13 13\n",
      " 13 13 13 13 13 13 13 13 13 13 13 13 13 13 13 13 13 13 13 13 13 29 13 13\n",
      " 13 13 13 13 13 13 13 13 13 13 13 13 13 13 13]\n"
     ]
    }
   ],
   "source": [
    "predic = model.predict(X_test)\n",
    "print(predic)\n",
    "predic = np.argmax(predic, axis=1)\n",
    "print(predic)\n",
    "#labels = np.argmax(y_test, axis=1)\n",
    "#confusion_matrix(labels, predic)"
   ]
  },
  {
   "cell_type": "code",
   "execution_count": null,
   "id": "c1d769ac",
   "metadata": {},
   "outputs": [],
   "source": []
  }
 ],
 "metadata": {
  "kernelspec": {
   "display_name": "mlenv",
   "language": "python",
   "name": "mlenv"
  },
  "language_info": {
   "codemirror_mode": {
    "name": "ipython",
    "version": 3
   },
   "file_extension": ".py",
   "mimetype": "text/x-python",
   "name": "python",
   "nbconvert_exporter": "python",
   "pygments_lexer": "ipython3",
   "version": "3.7.10"
  }
 },
 "nbformat": 4,
 "nbformat_minor": 5
}
