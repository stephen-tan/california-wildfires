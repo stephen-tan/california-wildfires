{
 "cells": [
  {
   "cell_type": "code",
   "execution_count": 53,
   "id": "bb33974b",
   "metadata": {},
   "outputs": [],
   "source": [
    "import pandas as pd\n",
    "import numpy as np\n",
    "from sklearn.preprocessing import OneHotEncoder, StandardScaler, MinMaxScaler\n",
    "from sklearn.model_selection import train_test_split\n"
   ]
  },
  {
   "cell_type": "code",
   "execution_count": 10,
   "id": "4f2b7a21",
   "metadata": {
    "scrolled": true
   },
   "outputs": [],
   "source": [
    "path = 'California_Fire_Incidents.xlsx'\n",
    "fire = pd.read_excel(path)\n",
    "columns = ['AcresBurned', 'AirTankers', 'AdminUnit', 'Counties', 'CountyIds', 'Engines', 'Latitude', 'Longitude', 'Started']"
   ]
  },
  {
   "cell_type": "code",
   "execution_count": 11,
   "id": "491b9378",
   "metadata": {
    "scrolled": true
   },
   "outputs": [
    {
     "data": {
      "text/html": [
       "<div>\n",
       "<style scoped>\n",
       "    .dataframe tbody tr th:only-of-type {\n",
       "        vertical-align: middle;\n",
       "    }\n",
       "\n",
       "    .dataframe tbody tr th {\n",
       "        vertical-align: top;\n",
       "    }\n",
       "\n",
       "    .dataframe thead th {\n",
       "        text-align: right;\n",
       "    }\n",
       "</style>\n",
       "<table border=\"1\" class=\"dataframe\">\n",
       "  <thead>\n",
       "    <tr style=\"text-align: right;\">\n",
       "      <th></th>\n",
       "      <th>AcresBurned</th>\n",
       "      <th>AirTankers</th>\n",
       "      <th>AdminUnit</th>\n",
       "      <th>Counties</th>\n",
       "      <th>CountyIds</th>\n",
       "      <th>Engines</th>\n",
       "      <th>Latitude</th>\n",
       "      <th>Longitude</th>\n",
       "      <th>Started</th>\n",
       "    </tr>\n",
       "  </thead>\n",
       "  <tbody>\n",
       "    <tr>\n",
       "      <th>0</th>\n",
       "      <td>257314.0</td>\n",
       "      <td>NaN</td>\n",
       "      <td>Stanislaus National Forest/Yosemite National Park</td>\n",
       "      <td>Tuolumne</td>\n",
       "      <td>55</td>\n",
       "      <td>NaN</td>\n",
       "      <td>37.857000</td>\n",
       "      <td>-120.086000</td>\n",
       "      <td>2013-08-17T15:25:00Z</td>\n",
       "    </tr>\n",
       "    <tr>\n",
       "      <th>1</th>\n",
       "      <td>30274.0</td>\n",
       "      <td>NaN</td>\n",
       "      <td>USFS Angeles National Forest/Los Angeles Count...</td>\n",
       "      <td>Los Angeles</td>\n",
       "      <td>19</td>\n",
       "      <td>NaN</td>\n",
       "      <td>34.585595</td>\n",
       "      <td>-118.423176</td>\n",
       "      <td>2013-05-30T15:28:00Z</td>\n",
       "    </tr>\n",
       "    <tr>\n",
       "      <th>2</th>\n",
       "      <td>27531.0</td>\n",
       "      <td>NaN</td>\n",
       "      <td>CAL FIRE Riverside Unit / San Bernardino Natio...</td>\n",
       "      <td>Riverside</td>\n",
       "      <td>33</td>\n",
       "      <td>NaN</td>\n",
       "      <td>33.709500</td>\n",
       "      <td>-116.728850</td>\n",
       "      <td>2013-07-15T13:43:00Z</td>\n",
       "    </tr>\n",
       "    <tr>\n",
       "      <th>3</th>\n",
       "      <td>27440.0</td>\n",
       "      <td>NaN</td>\n",
       "      <td>Tahoe National Forest</td>\n",
       "      <td>Placer</td>\n",
       "      <td>31</td>\n",
       "      <td>NaN</td>\n",
       "      <td>39.120000</td>\n",
       "      <td>-120.650000</td>\n",
       "      <td>2013-08-10T16:30:00Z</td>\n",
       "    </tr>\n",
       "    <tr>\n",
       "      <th>4</th>\n",
       "      <td>24251.0</td>\n",
       "      <td>NaN</td>\n",
       "      <td>Ventura County Fire/CAL FIRE</td>\n",
       "      <td>Ventura</td>\n",
       "      <td>56</td>\n",
       "      <td>117.0</td>\n",
       "      <td>0.000000</td>\n",
       "      <td>0.000000</td>\n",
       "      <td>2013-05-02T07:01:00Z</td>\n",
       "    </tr>\n",
       "    <tr>\n",
       "      <th>...</th>\n",
       "      <td>...</td>\n",
       "      <td>...</td>\n",
       "      <td>...</td>\n",
       "      <td>...</td>\n",
       "      <td>...</td>\n",
       "      <td>...</td>\n",
       "      <td>...</td>\n",
       "      <td>...</td>\n",
       "      <td>...</td>\n",
       "    </tr>\n",
       "    <tr>\n",
       "      <th>1631</th>\n",
       "      <td>9.0</td>\n",
       "      <td>NaN</td>\n",
       "      <td>CAL FIRE / Riverside County Fire</td>\n",
       "      <td>Riverside</td>\n",
       "      <td>33</td>\n",
       "      <td>NaN</td>\n",
       "      <td>33.827979</td>\n",
       "      <td>-117.499619</td>\n",
       "      <td>2019-10-10T12:08:00Z</td>\n",
       "    </tr>\n",
       "    <tr>\n",
       "      <th>1632</th>\n",
       "      <td>2.0</td>\n",
       "      <td>NaN</td>\n",
       "      <td>CAL FIRE Nevada-Yuba-Placer Unit</td>\n",
       "      <td>Nevada</td>\n",
       "      <td>29</td>\n",
       "      <td>NaN</td>\n",
       "      <td>39.409722</td>\n",
       "      <td>-121.000556</td>\n",
       "      <td>2019-06-28T15:03:04Z</td>\n",
       "    </tr>\n",
       "    <tr>\n",
       "      <th>1633</th>\n",
       "      <td>NaN</td>\n",
       "      <td>NaN</td>\n",
       "      <td>Yolo County Fire Protection District</td>\n",
       "      <td>Yolo</td>\n",
       "      <td>57</td>\n",
       "      <td>NaN</td>\n",
       "      <td>38.734634</td>\n",
       "      <td>-121.729691</td>\n",
       "      <td>2019-11-25T12:02:02Z</td>\n",
       "    </tr>\n",
       "    <tr>\n",
       "      <th>1634</th>\n",
       "      <td>NaN</td>\n",
       "      <td>NaN</td>\n",
       "      <td>Camp Pendleton Marine Corps Base</td>\n",
       "      <td>San Diego</td>\n",
       "      <td>37</td>\n",
       "      <td>NaN</td>\n",
       "      <td>33.351145</td>\n",
       "      <td>-117.403719</td>\n",
       "      <td>2019-10-22T19:20:44Z</td>\n",
       "    </tr>\n",
       "    <tr>\n",
       "      <th>1635</th>\n",
       "      <td>NaN</td>\n",
       "      <td>NaN</td>\n",
       "      <td>Bureau of Indian Affairs</td>\n",
       "      <td>Riverside</td>\n",
       "      <td>33</td>\n",
       "      <td>NaN</td>\n",
       "      <td>33.451480</td>\n",
       "      <td>-116.058980</td>\n",
       "      <td>2019-10-14T15:32:20Z</td>\n",
       "    </tr>\n",
       "  </tbody>\n",
       "</table>\n",
       "<p>1636 rows × 9 columns</p>\n",
       "</div>"
      ],
      "text/plain": [
       "      AcresBurned  AirTankers  \\\n",
       "0        257314.0         NaN   \n",
       "1         30274.0         NaN   \n",
       "2         27531.0         NaN   \n",
       "3         27440.0         NaN   \n",
       "4         24251.0         NaN   \n",
       "...           ...         ...   \n",
       "1631          9.0         NaN   \n",
       "1632          2.0         NaN   \n",
       "1633          NaN         NaN   \n",
       "1634          NaN         NaN   \n",
       "1635          NaN         NaN   \n",
       "\n",
       "                                              AdminUnit     Counties  \\\n",
       "0     Stanislaus National Forest/Yosemite National Park     Tuolumne   \n",
       "1     USFS Angeles National Forest/Los Angeles Count...  Los Angeles   \n",
       "2     CAL FIRE Riverside Unit / San Bernardino Natio...    Riverside   \n",
       "3                                 Tahoe National Forest       Placer   \n",
       "4                          Ventura County Fire/CAL FIRE      Ventura   \n",
       "...                                                 ...          ...   \n",
       "1631                   CAL FIRE / Riverside County Fire    Riverside   \n",
       "1632                   CAL FIRE Nevada-Yuba-Placer Unit       Nevada   \n",
       "1633               Yolo County Fire Protection District         Yolo   \n",
       "1634                   Camp Pendleton Marine Corps Base    San Diego   \n",
       "1635                           Bureau of Indian Affairs    Riverside   \n",
       "\n",
       "     CountyIds  Engines   Latitude   Longitude               Started  \n",
       "0           55      NaN  37.857000 -120.086000  2013-08-17T15:25:00Z  \n",
       "1           19      NaN  34.585595 -118.423176  2013-05-30T15:28:00Z  \n",
       "2           33      NaN  33.709500 -116.728850  2013-07-15T13:43:00Z  \n",
       "3           31      NaN  39.120000 -120.650000  2013-08-10T16:30:00Z  \n",
       "4           56    117.0   0.000000    0.000000  2013-05-02T07:01:00Z  \n",
       "...        ...      ...        ...         ...                   ...  \n",
       "1631        33      NaN  33.827979 -117.499619  2019-10-10T12:08:00Z  \n",
       "1632        29      NaN  39.409722 -121.000556  2019-06-28T15:03:04Z  \n",
       "1633        57      NaN  38.734634 -121.729691  2019-11-25T12:02:02Z  \n",
       "1634        37      NaN  33.351145 -117.403719  2019-10-22T19:20:44Z  \n",
       "1635        33      NaN  33.451480 -116.058980  2019-10-14T15:32:20Z  \n",
       "\n",
       "[1636 rows x 9 columns]"
      ]
     },
     "execution_count": 11,
     "metadata": {},
     "output_type": "execute_result"
    }
   ],
   "source": [
    "fire_df = fire[columns]\n",
    "fire_df"
   ]
  },
  {
   "cell_type": "code",
   "execution_count": 12,
   "id": "8f4ca340",
   "metadata": {
    "scrolled": true
   },
   "outputs": [
    {
     "data": {
      "text/plain": [
       "AcresBurned       3\n",
       "AirTankers     1608\n",
       "AdminUnit         0\n",
       "Counties          0\n",
       "CountyIds         0\n",
       "Engines        1445\n",
       "Latitude          0\n",
       "Longitude         0\n",
       "Started           0\n",
       "dtype: int64"
      ]
     },
     "execution_count": 12,
     "metadata": {},
     "output_type": "execute_result"
    }
   ],
   "source": [
    "fire_df.isna().sum()"
   ]
  },
  {
   "cell_type": "code",
   "execution_count": 13,
   "id": "d2588951",
   "metadata": {},
   "outputs": [],
   "source": [
    "fire_df = fire_df.drop(['AirTankers', 'Engines', 'AdminUnit'], axis=1)\n",
    "fire_df = fire_df.dropna()"
   ]
  },
  {
   "cell_type": "code",
   "execution_count": 6,
   "id": "1b65e7c4",
   "metadata": {},
   "outputs": [
    {
     "data": {
      "text/html": [
       "<div>\n",
       "<style scoped>\n",
       "    .dataframe tbody tr th:only-of-type {\n",
       "        vertical-align: middle;\n",
       "    }\n",
       "\n",
       "    .dataframe tbody tr th {\n",
       "        vertical-align: top;\n",
       "    }\n",
       "\n",
       "    .dataframe thead th {\n",
       "        text-align: right;\n",
       "    }\n",
       "</style>\n",
       "<table border=\"1\" class=\"dataframe\">\n",
       "  <thead>\n",
       "    <tr style=\"text-align: right;\">\n",
       "      <th></th>\n",
       "      <th>AcresBurned</th>\n",
       "      <th>Counties</th>\n",
       "      <th>CountyIds</th>\n",
       "      <th>Latitude</th>\n",
       "      <th>Longitude</th>\n",
       "      <th>Started</th>\n",
       "    </tr>\n",
       "  </thead>\n",
       "  <tbody>\n",
       "    <tr>\n",
       "      <th>1628</th>\n",
       "      <td>10.0</td>\n",
       "      <td>Butte</td>\n",
       "      <td>4</td>\n",
       "      <td>39.423833</td>\n",
       "      <td>-121.579738</td>\n",
       "      <td>2019-07-23T14:41:00Z</td>\n",
       "    </tr>\n",
       "    <tr>\n",
       "      <th>1629</th>\n",
       "      <td>10.0</td>\n",
       "      <td>Siskiyou</td>\n",
       "      <td>47</td>\n",
       "      <td>41.946220</td>\n",
       "      <td>-122.401570</td>\n",
       "      <td>2019-06-16T20:33:00Z</td>\n",
       "    </tr>\n",
       "    <tr>\n",
       "      <th>1630</th>\n",
       "      <td>10.0</td>\n",
       "      <td>Butte</td>\n",
       "      <td>4</td>\n",
       "      <td>39.839580</td>\n",
       "      <td>-121.957000</td>\n",
       "      <td>2019-04-30T12:20:00Z</td>\n",
       "    </tr>\n",
       "    <tr>\n",
       "      <th>1631</th>\n",
       "      <td>9.0</td>\n",
       "      <td>Riverside</td>\n",
       "      <td>33</td>\n",
       "      <td>33.827979</td>\n",
       "      <td>-117.499619</td>\n",
       "      <td>2019-10-10T12:08:00Z</td>\n",
       "    </tr>\n",
       "    <tr>\n",
       "      <th>1632</th>\n",
       "      <td>2.0</td>\n",
       "      <td>Nevada</td>\n",
       "      <td>29</td>\n",
       "      <td>39.409722</td>\n",
       "      <td>-121.000556</td>\n",
       "      <td>2019-06-28T15:03:04Z</td>\n",
       "    </tr>\n",
       "  </tbody>\n",
       "</table>\n",
       "</div>"
      ],
      "text/plain": [
       "      AcresBurned   Counties CountyIds   Latitude   Longitude  \\\n",
       "1628         10.0      Butte         4  39.423833 -121.579738   \n",
       "1629         10.0   Siskiyou        47  41.946220 -122.401570   \n",
       "1630         10.0      Butte         4  39.839580 -121.957000   \n",
       "1631          9.0  Riverside        33  33.827979 -117.499619   \n",
       "1632          2.0     Nevada        29  39.409722 -121.000556   \n",
       "\n",
       "                   Started  \n",
       "1628  2019-07-23T14:41:00Z  \n",
       "1629  2019-06-16T20:33:00Z  \n",
       "1630  2019-04-30T12:20:00Z  \n",
       "1631  2019-10-10T12:08:00Z  \n",
       "1632  2019-06-28T15:03:04Z  "
      ]
     },
     "execution_count": 6,
     "metadata": {},
     "output_type": "execute_result"
    }
   ],
   "source": [
    "fire_df.tail()"
   ]
  },
  {
   "cell_type": "code",
   "execution_count": 7,
   "id": "417e24bb",
   "metadata": {
    "scrolled": true
   },
   "outputs": [
    {
     "data": {
      "text/plain": [
       "AcresBurned    float64\n",
       "Counties        object\n",
       "CountyIds       object\n",
       "Latitude       float64\n",
       "Longitude      float64\n",
       "Started         object\n",
       "dtype: object"
      ]
     },
     "execution_count": 7,
     "metadata": {},
     "output_type": "execute_result"
    }
   ],
   "source": [
    "fire_df.dtypes"
   ]
  },
  {
   "cell_type": "code",
   "execution_count": 20,
   "id": "1bf0f346",
   "metadata": {},
   "outputs": [],
   "source": [
    "months = []\n",
    "years = []\n",
    "for index, row in fire_df.iterrows():\n",
    "   #print(date)\n",
    "    month = row['Started'].split('-')[1]\n",
    "    year = row['Started'].split('-')[0]\n",
    "    months.append(np.float32(month))\n",
    "    years.append(np.float32(year))"
   ]
  },
  {
   "cell_type": "code",
   "execution_count": 21,
   "id": "2159bc5b",
   "metadata": {
    "scrolled": true
   },
   "outputs": [
    {
     "data": {
      "text/html": [
       "<div>\n",
       "<style scoped>\n",
       "    .dataframe tbody tr th:only-of-type {\n",
       "        vertical-align: middle;\n",
       "    }\n",
       "\n",
       "    .dataframe tbody tr th {\n",
       "        vertical-align: top;\n",
       "    }\n",
       "\n",
       "    .dataframe thead th {\n",
       "        text-align: right;\n",
       "    }\n",
       "</style>\n",
       "<table border=\"1\" class=\"dataframe\">\n",
       "  <thead>\n",
       "    <tr style=\"text-align: right;\">\n",
       "      <th></th>\n",
       "      <th>AcresBurned</th>\n",
       "      <th>Counties</th>\n",
       "      <th>CountyIds</th>\n",
       "      <th>Latitude</th>\n",
       "      <th>Longitude</th>\n",
       "      <th>Month</th>\n",
       "      <th>Year</th>\n",
       "    </tr>\n",
       "  </thead>\n",
       "  <tbody>\n",
       "    <tr>\n",
       "      <th>0</th>\n",
       "      <td>257314.0</td>\n",
       "      <td>Tuolumne</td>\n",
       "      <td>55</td>\n",
       "      <td>37.857000</td>\n",
       "      <td>-120.086000</td>\n",
       "      <td>8.0</td>\n",
       "      <td>2013.0</td>\n",
       "    </tr>\n",
       "    <tr>\n",
       "      <th>1</th>\n",
       "      <td>30274.0</td>\n",
       "      <td>Los Angeles</td>\n",
       "      <td>19</td>\n",
       "      <td>34.585595</td>\n",
       "      <td>-118.423176</td>\n",
       "      <td>5.0</td>\n",
       "      <td>2013.0</td>\n",
       "    </tr>\n",
       "    <tr>\n",
       "      <th>2</th>\n",
       "      <td>27531.0</td>\n",
       "      <td>Riverside</td>\n",
       "      <td>33</td>\n",
       "      <td>33.709500</td>\n",
       "      <td>-116.728850</td>\n",
       "      <td>7.0</td>\n",
       "      <td>2013.0</td>\n",
       "    </tr>\n",
       "    <tr>\n",
       "      <th>3</th>\n",
       "      <td>27440.0</td>\n",
       "      <td>Placer</td>\n",
       "      <td>31</td>\n",
       "      <td>39.120000</td>\n",
       "      <td>-120.650000</td>\n",
       "      <td>8.0</td>\n",
       "      <td>2013.0</td>\n",
       "    </tr>\n",
       "    <tr>\n",
       "      <th>4</th>\n",
       "      <td>24251.0</td>\n",
       "      <td>Ventura</td>\n",
       "      <td>56</td>\n",
       "      <td>0.000000</td>\n",
       "      <td>0.000000</td>\n",
       "      <td>5.0</td>\n",
       "      <td>2013.0</td>\n",
       "    </tr>\n",
       "  </tbody>\n",
       "</table>\n",
       "</div>"
      ],
      "text/plain": [
       "   AcresBurned     Counties CountyIds   Latitude   Longitude  Month    Year\n",
       "0     257314.0     Tuolumne        55  37.857000 -120.086000    8.0  2013.0\n",
       "1      30274.0  Los Angeles        19  34.585595 -118.423176    5.0  2013.0\n",
       "2      27531.0    Riverside        33  33.709500 -116.728850    7.0  2013.0\n",
       "3      27440.0       Placer        31  39.120000 -120.650000    8.0  2013.0\n",
       "4      24251.0      Ventura        56   0.000000    0.000000    5.0  2013.0"
      ]
     },
     "execution_count": 21,
     "metadata": {},
     "output_type": "execute_result"
    }
   ],
   "source": [
    "fire_df = fire_df.drop('Started', axis=1)\n",
    "fire_df['Month'] = months\n",
    "fire_df['Year'] = years\n",
    "fire_df.head()\n",
    "#fire_df.to_csv('Wildfires 2013-2019.csv')"
   ]
  },
  {
   "cell_type": "code",
   "execution_count": 22,
   "id": "89528dbd",
   "metadata": {},
   "outputs": [],
   "source": [
    "labels = fire_df['Counties']\n",
    "features = fire_df.drop(['Counties', 'CountyIds'], axis=1)\n"
   ]
  },
  {
   "cell_type": "code",
   "execution_count": 48,
   "id": "eed2928b",
   "metadata": {
    "scrolled": false
   },
   "outputs": [
    {
     "data": {
      "text/plain": [
       "array([0, 0, 0, 0, 0, 0, 0, 0, 0, 0, 0, 0, 0, 0, 0, 0, 0, 0, 0, 0, 0, 0,\n",
       "       0, 0, 0, 0, 0, 0, 0, 0, 0, 0, 0, 0, 0, 0, 0, 0, 0, 0, 0, 0, 0, 0,\n",
       "       0, 0, 0, 0, 0, 0, 0, 0, 0, 0, 0, 1, 0, 0, 0], dtype=uint8)"
      ]
     },
     "execution_count": 48,
     "metadata": {},
     "output_type": "execute_result"
    }
   ],
   "source": [
    "dummies = pd.get_dummies(labels)\n",
    "one_hot_labels = dummies.to_numpy()\n",
    "scaler = MinMaxScaler()\n",
    "#acres = features['AcresBurned'].to_numpy().reshape(-1,1)\n",
    "#scaled = scaler.fit_transform(features)\n",
    "one_hot_labels[0]"
   ]
  },
  {
   "cell_type": "code",
   "execution_count": 24,
   "id": "f2ac96cd",
   "metadata": {},
   "outputs": [],
   "source": [
    "#features.to_csv('cleaned_firedata.csv')"
   ]
  },
  {
   "cell_type": "code",
   "execution_count": 25,
   "id": "dd74c150",
   "metadata": {},
   "outputs": [
    {
     "name": "stdout",
     "output_type": "stream",
     "text": [
      "(1633, 5)\n"
     ]
    },
    {
     "data": {
      "text/plain": [
       "(1633, 59)"
      ]
     },
     "execution_count": 25,
     "metadata": {},
     "output_type": "execute_result"
    }
   ],
   "source": [
    "print(features.shape)\n",
    "one_hot_labels.shape"
   ]
  },
  {
   "cell_type": "code",
   "execution_count": 26,
   "id": "d4954bf2",
   "metadata": {},
   "outputs": [],
   "source": [
    "X_train, X_test, y_train, y_test = train_test_split(scaled, one_hot_labels, test_size=0.2)"
   ]
  },
  {
   "cell_type": "code",
   "execution_count": 55,
   "id": "f8e70cf5",
   "metadata": {},
   "outputs": [],
   "source": [
    "normalizer = preprocessing.Normalization(axis=-1)\n",
    "normalizer.adapt(np.array(train_features))\n",
    "features_scaled = normalizer(train_features)"
   ]
  },
  {
   "cell_type": "markdown",
   "id": "3efc13b9",
   "metadata": {},
   "source": [
    "## Rough draft model\n"
   ]
  },
  {
   "cell_type": "code",
   "execution_count": 56,
   "id": "6606014f",
   "metadata": {},
   "outputs": [],
   "source": [
    "import sys\n",
    "import os\n",
    "from sklearn.model_selection import train_test_split\n",
    "from sklearn.preprocessing import StandardScaler, MinMaxScaler\n",
    "from sklearn.metrics import classification_report, confusion_matrix\n",
    "\n",
    "import tensorflow as tf\n",
    "# from tensorflow import keras\n",
    "from tensorflow.keras import layers, Sequential, Input\n",
    "from tensorflow.keras.layers import Dense, Conv2D, MaxPool2D, Flatten, Dropout, concatenate\n",
    "# from tensorflow.keras.layers.core import *\n",
    "from tensorflow.keras.models import Model\n",
    "from tensorflow.keras.layers.experimental import preprocessing\n",
    "# from tensorflow.keras.applications.vgg16 import VGG16, preprocess_input\n"
   ]
  },
  {
   "cell_type": "markdown",
   "id": "841958a0",
   "metadata": {},
   "source": [
    "def build_dnn():\n",
    "\n",
    "    \n",
    "    normalizer = layers.BatchNormalization(momentum=0.98, epsilon=.001, trainable=True)\n",
    "\n",
    "    model = Sequential([\n",
    "\n",
    "        #normalizer,\n",
    "        layers.Dense(24, activation='relu'),\n",
    "        layers.Dense(16, activation='relu'),\n",
    "        layers.Dense(8, activation='relu'),\n",
    "        layers.Dense(1)\n",
    "    ])\n",
    "    model = Model([img_input, num_input], out)\n",
    "    model.compile(loss='binary_crossentropy', optimizer=tf.keras.optimizers.Adam(0.0001), metrics=['accuracy'])\n",
    "    print(\"Model compiled\")\n",
    "    return model"
   ]
  },
  {
   "cell_type": "code",
   "execution_count": 57,
   "id": "df8d5302",
   "metadata": {},
   "outputs": [],
   "source": [
    "def build_dnn(input_shape, numclasses):\n",
    "    feature_input = Input(shape=input_shape)\n",
    "    model = Dense(8, activation='relu')(feature_input)\n",
    "    model = Dense(4, activation='relu')(model)\n",
    "    model = Dense(1, activation='relu')(model)\n",
    "    output = Dense(numclasses, activation='sigmoid')(model)\n",
    "    model = Model(inputs=feature_input, outputs=output)\n",
    "    print(model.summary())\n",
    "    return(model)"
   ]
  },
  {
   "cell_type": "code",
   "execution_count": 58,
   "id": "c2e8dfdd",
   "metadata": {},
   "outputs": [
    {
     "name": "stdout",
     "output_type": "stream",
     "text": [
      "Model: \"model_4\"\n",
      "_________________________________________________________________\n",
      "Layer (type)                 Output Shape              Param #   \n",
      "=================================================================\n",
      "input_5 (InputLayer)         [(None, 5)]               0         \n",
      "_________________________________________________________________\n",
      "dense_12 (Dense)             (None, 8)                 48        \n",
      "_________________________________________________________________\n",
      "dense_13 (Dense)             (None, 4)                 36        \n",
      "_________________________________________________________________\n",
      "dense_14 (Dense)             (None, 1)                 5         \n",
      "_________________________________________________________________\n",
      "dense_15 (Dense)             (None, 59)                118       \n",
      "=================================================================\n",
      "Total params: 207\n",
      "Trainable params: 207\n",
      "Non-trainable params: 0\n",
      "_________________________________________________________________\n",
      "None\n"
     ]
    }
   ],
   "source": [
    "model = build_dnn((5,), len(one_hot_labels[0]))"
   ]
  },
  {
   "cell_type": "code",
   "execution_count": 59,
   "id": "36004210",
   "metadata": {
    "scrolled": true
   },
   "outputs": [
    {
     "name": "stdout",
     "output_type": "stream",
     "text": [
      "Epoch 1/10\n",
      "33/33 [==============================] - 0s 9ms/step - loss: 4.0772 - accuracy: 0.0747 - val_loss: 4.0768 - val_accuracy: 0.1336\n",
      "Epoch 2/10\n",
      "33/33 [==============================] - 0s 4ms/step - loss: 4.0765 - accuracy: 0.0872 - val_loss: 4.0762 - val_accuracy: 0.1336\n",
      "Epoch 3/10\n",
      "33/33 [==============================] - 0s 3ms/step - loss: 4.0757 - accuracy: 0.0872 - val_loss: 4.0755 - val_accuracy: 0.1336\n",
      "Epoch 4/10\n",
      "33/33 [==============================] - 0s 4ms/step - loss: 4.0750 - accuracy: 0.0872 - val_loss: 4.0748 - val_accuracy: 0.1336\n",
      "Epoch 5/10\n",
      "33/33 [==============================] - 0s 4ms/step - loss: 4.0743 - accuracy: 0.0872 - val_loss: 4.0741 - val_accuracy: 0.1336\n",
      "Epoch 6/10\n",
      "33/33 [==============================] - 0s 4ms/step - loss: 4.0735 - accuracy: 0.0872 - val_loss: 4.0735 - val_accuracy: 0.1336\n",
      "Epoch 7/10\n",
      "33/33 [==============================] - 0s 3ms/step - loss: 4.0728 - accuracy: 0.0872 - val_loss: 4.0728 - val_accuracy: 0.1336\n",
      "Epoch 8/10\n",
      "33/33 [==============================] - 0s 4ms/step - loss: 4.0720 - accuracy: 0.0872 - val_loss: 4.0721 - val_accuracy: 0.1336\n",
      "Epoch 9/10\n",
      "33/33 [==============================] - 0s 5ms/step - loss: 4.0713 - accuracy: 0.0872 - val_loss: 4.0715 - val_accuracy: 0.1336\n",
      "Epoch 10/10\n",
      "33/33 [==============================] - 0s 3ms/step - loss: 4.0706 - accuracy: 0.0872 - val_loss: 4.0708 - val_accuracy: 0.1336\n"
     ]
    },
    {
     "data": {
      "text/plain": [
       "[4.071535587310791, 0.05810397490859032]"
      ]
     },
     "execution_count": 59,
     "metadata": {},
     "output_type": "execute_result"
    }
   ],
   "source": [
    "model.compile(loss='categorical_crossentropy', optimizer=tf.keras.optimizers.Adam(0.0001), metrics=['accuracy'])\n",
    "\n",
    "model.fit(X_train, y_train, validation_split=0.2, epochs=10)\n",
    "model.evaluate(X_test, y_test, verbose=0)\n"
   ]
  },
  {
   "cell_type": "code",
   "execution_count": 60,
   "id": "7db168d3",
   "metadata": {},
   "outputs": [
    {
     "name": "stdout",
     "output_type": "stream",
     "text": [
      "[31 16  9 17 10  3 19 36 57 20  8 32 32 26 43 15 56 58 45 45 56 15 17  3\n",
      "  8 45 17 26 53 41 29 36 53  9 58 32 41  6 38 56 41 45 34 54 43 28  9 27\n",
      " 35 15  7 52 56 45 32 35 45  9  4 52 16 16 11 26 11 46 26  6  9 40  9 43\n",
      " 48 30  4 38 22 38  3 20 36 30  6 47 52  0  2 38 19 13 20  3 56 36 35 52\n",
      " 40 24 36  0 20 16  3 15 16 38 21 48 54 41 13 30 28  9 13 17 36 18  0 27\n",
      "  6  3  9 13 55 37 22 11 18  8 24 14 29 38 24 36 33 26 54 22 54 55 41 28\n",
      " 16 45 42  9  8 37 30 26  4  8  7 22 43 36  0 40 25 36 36 17 13 27  7 34\n",
      " 13 35 38 45 28 38 18 30 15 36  6 25 15 32 47 19 55 15 34 42 32  0 20 45\n",
      " 33 32  3 17 27 38 52 56 26 20  0  9 32 32 54 15 58 13 14 34 35  8 32 48\n",
      " 38 52 15 26 29 21 52 20  6 56  4 43 32 16 46 53 38 13 53 32 32 36  3 46\n",
      "  8  2 45 36  8 43 35 15 52  8 48 54 10 27 35 34 36 26 20 32 56 32 54  0\n",
      "  3 32 16 16  4 53  3 41 38 12  4 21 36 32 36 54 36 41 53 16 24 54 17 32\n",
      " 40 35  8 45 52 25 45 38  9 13 54 38 36 36 58 32  6 45 41 54 47 36 40 26\n",
      " 21 36 35  3  4 52 18  6  8 54 50 20 28  6  9]\n",
      "[32 32 32 32 32 32 32 32 32 32 32 32 32 32 32 32 32 32 32 32 32 32 32 32\n",
      " 32 32 32 32 32 32 32 32 32 32 32 32 32 32 32 32 32 32 32 32 32 32 32 32\n",
      " 32 32 32 32 32 32 32 32 32 32 32 32 32 32 32 32 32 32 32 32 32 32 32 32\n",
      " 32 32 32 32 32 32 32 32 32 32 32 32 32 32 32 32 32 32 32 32 32 32 32 32\n",
      " 32 32 32 32 32 32 32 32 32 32 32 32 32 32 32 32 32 32 32 32 32 32 32 32\n",
      " 32 32 32 32 32 32 32 32 32 32 32 32 32 32 32 32 32 32 32 32 32 32 32 32\n",
      " 32 32 32 32 32 32 32 32 32 32 32 32 32 32 32 32 32 32 32 32 32 32 32 32\n",
      " 32 32 32 32 32 32 32 32 32 32 32 32 32 32 32 32 32 32 32 32 32 32 32 32\n",
      " 32 32 32 32 32 32 32 32 32 32 32 32 32 32 32 32 32 32 32 32 32 32 32 32\n",
      " 32 32 32 32 32 32 32 32 32 32 32 32 32 32 32 32 32 32 32 32 32 32 32 32\n",
      " 32 32 32 32 32 32 32 32 32 32 32 32 32 32 32 32 32 32 32 32 32 32 32 32\n",
      " 32 32 32 32 32 32 32 32 32 32 32 32 32 32 32 32 32 32 32 32 32 32 32 32\n",
      " 32 32 32 32 32 32 32 32 32 32 32 32 32 32 32 32 32 32 32 32 32 32 32 32\n",
      " 32 32 32 32 32 32 32 32 32 32 32 32 32 32 32]\n"
     ]
    }
   ],
   "source": [
    "truth = y_test.argmax(axis=1)\n",
    "predic = model.predict(X_test)\n",
    "print(truth)\n",
    "predic = predic.argmax(axis=1)\n",
    "print(predic)"
   ]
  },
  {
   "cell_type": "code",
   "execution_count": 46,
   "id": "1e82eb8d",
   "metadata": {},
   "outputs": [],
   "source": [
    "def undummify(df, prefix_sep=\"_\"):\n",
    "    cols2collapse = {\n",
    "        item.split(prefix_sep)[0]: (prefix_sep in item) for item in df.columns\n",
    "    }\n",
    "    series_list = []\n",
    "    for col, needs_to_collapse in cols2collapse.items():\n",
    "        if needs_to_collapse:\n",
    "            undummified = (\n",
    "                df.filter(like=col)\n",
    "                .idxmax(axis=1)\n",
    "                .apply(lambda x: x.split(prefix_sep, maxsplit=1)[1])\n",
    "                .rename(col)\n",
    "            )\n",
    "            series_list.append(undummified)\n",
    "        else:\n",
    "            series_list.append(df[col])\n",
    "    undummified_df = pd.concat(series_list, axis=1)\n",
    "    return undummified_df"
   ]
  },
  {
   "cell_type": "code",
   "execution_count": 50,
   "id": "653addb8",
   "metadata": {},
   "outputs": [
    {
     "ename": "AttributeError",
     "evalue": "'numpy.ndarray' object has no attribute 'columns'",
     "output_type": "error",
     "traceback": [
      "\u001b[1;31m---------------------------------------------------------------------------\u001b[0m",
      "\u001b[1;31mAttributeError\u001b[0m                            Traceback (most recent call last)",
      "\u001b[1;32m<ipython-input-50-40a862e12bbf>\u001b[0m in \u001b[0;36m<module>\u001b[1;34m\u001b[0m\n\u001b[1;32m----> 1\u001b[1;33m \u001b[0mundummify\u001b[0m\u001b[1;33m(\u001b[0m\u001b[0mpredic\u001b[0m\u001b[1;33m)\u001b[0m\u001b[1;33m\u001b[0m\u001b[1;33m\u001b[0m\u001b[0m\n\u001b[0m",
      "\u001b[1;32m<ipython-input-46-48f94732b031>\u001b[0m in \u001b[0;36mundummify\u001b[1;34m(df, prefix_sep)\u001b[0m\n\u001b[0;32m      1\u001b[0m \u001b[1;32mdef\u001b[0m \u001b[0mundummify\u001b[0m\u001b[1;33m(\u001b[0m\u001b[0mdf\u001b[0m\u001b[1;33m,\u001b[0m \u001b[0mprefix_sep\u001b[0m\u001b[1;33m=\u001b[0m\u001b[1;34m\"_\"\u001b[0m\u001b[1;33m)\u001b[0m\u001b[1;33m:\u001b[0m\u001b[1;33m\u001b[0m\u001b[1;33m\u001b[0m\u001b[0m\n\u001b[0;32m      2\u001b[0m     cols2collapse = {\n\u001b[1;32m----> 3\u001b[1;33m         \u001b[0mitem\u001b[0m\u001b[1;33m.\u001b[0m\u001b[0msplit\u001b[0m\u001b[1;33m(\u001b[0m\u001b[0mprefix_sep\u001b[0m\u001b[1;33m)\u001b[0m\u001b[1;33m[\u001b[0m\u001b[1;36m0\u001b[0m\u001b[1;33m]\u001b[0m\u001b[1;33m:\u001b[0m \u001b[1;33m(\u001b[0m\u001b[0mprefix_sep\u001b[0m \u001b[1;32min\u001b[0m \u001b[0mitem\u001b[0m\u001b[1;33m)\u001b[0m \u001b[1;32mfor\u001b[0m \u001b[0mitem\u001b[0m \u001b[1;32min\u001b[0m \u001b[0mdf\u001b[0m\u001b[1;33m.\u001b[0m\u001b[0mcolumns\u001b[0m\u001b[1;33m\u001b[0m\u001b[1;33m\u001b[0m\u001b[0m\n\u001b[0m\u001b[0;32m      4\u001b[0m     }\n\u001b[0;32m      5\u001b[0m     \u001b[0mseries_list\u001b[0m \u001b[1;33m=\u001b[0m \u001b[1;33m[\u001b[0m\u001b[1;33m]\u001b[0m\u001b[1;33m\u001b[0m\u001b[1;33m\u001b[0m\u001b[0m\n",
      "\u001b[1;31mAttributeError\u001b[0m: 'numpy.ndarray' object has no attribute 'columns'"
     ]
    }
   ],
   "source": [
    "undummify(predic)"
   ]
  },
  {
   "cell_type": "code",
   "execution_count": null,
   "id": "f1a435ef",
   "metadata": {},
   "outputs": [],
   "source": []
  }
 ],
 "metadata": {
  "kernelspec": {
   "display_name": "mlenv",
   "language": "python",
   "name": "mlenv"
  },
  "language_info": {
   "codemirror_mode": {
    "name": "ipython",
    "version": 3
   },
   "file_extension": ".py",
   "mimetype": "text/x-python",
   "name": "python",
   "nbconvert_exporter": "python",
   "pygments_lexer": "ipython3",
   "version": "3.7.10"
  }
 },
 "nbformat": 4,
 "nbformat_minor": 5
}
