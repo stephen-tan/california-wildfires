{
 "cells": [
  {
   "cell_type": "code",
   "execution_count": 2,
   "id": "bb33974b",
   "metadata": {},
   "outputs": [],
   "source": [
    "import pandas as pd\n",
    "import numpy as np\n",
    "from sklearn.preprocessing import OneHotEncoder, StandardScaler, MinMaxScaler\n",
    "from sklearn.model_selection import train_test_split\n"
   ]
  },
  {
   "cell_type": "code",
   "execution_count": 3,
   "id": "4f2b7a21",
   "metadata": {
    "scrolled": true
   },
   "outputs": [],
   "source": [
    "path = 'California_Fire_Incidents.xlsx'\n",
    "fire = pd.read_excel(path)\n",
    "columns = ['AcresBurned', 'AirTankers', 'AdminUnit', 'Counties', 'CountyIds', 'Engines', 'Latitude', 'Longitude', 'Started']"
   ]
  },
  {
   "cell_type": "code",
   "execution_count": 44,
   "id": "491b9378",
   "metadata": {
    "scrolled": true
   },
   "outputs": [
    {
     "name": "stdout",
     "output_type": "stream",
     "text": [
      "1636\n"
     ]
    },
    {
     "data": {
      "text/html": [
       "<div>\n",
       "<style scoped>\n",
       "    .dataframe tbody tr th:only-of-type {\n",
       "        vertical-align: middle;\n",
       "    }\n",
       "\n",
       "    .dataframe tbody tr th {\n",
       "        vertical-align: top;\n",
       "    }\n",
       "\n",
       "    .dataframe thead th {\n",
       "        text-align: right;\n",
       "    }\n",
       "</style>\n",
       "<table border=\"1\" class=\"dataframe\">\n",
       "  <thead>\n",
       "    <tr style=\"text-align: right;\">\n",
       "      <th></th>\n",
       "      <th>AcresBurned</th>\n",
       "      <th>AirTankers</th>\n",
       "      <th>AdminUnit</th>\n",
       "      <th>Counties</th>\n",
       "      <th>CountyIds</th>\n",
       "      <th>Engines</th>\n",
       "      <th>Latitude</th>\n",
       "      <th>Longitude</th>\n",
       "      <th>Started</th>\n",
       "    </tr>\n",
       "  </thead>\n",
       "  <tbody>\n",
       "    <tr>\n",
       "      <th>0</th>\n",
       "      <td>257314.0</td>\n",
       "      <td>NaN</td>\n",
       "      <td>Stanislaus National Forest/Yosemite National Park</td>\n",
       "      <td>Tuolumne</td>\n",
       "      <td>55</td>\n",
       "      <td>NaN</td>\n",
       "      <td>37.857000</td>\n",
       "      <td>-120.086000</td>\n",
       "      <td>2013-08-17T15:25:00Z</td>\n",
       "    </tr>\n",
       "    <tr>\n",
       "      <th>1</th>\n",
       "      <td>30274.0</td>\n",
       "      <td>NaN</td>\n",
       "      <td>USFS Angeles National Forest/Los Angeles Count...</td>\n",
       "      <td>Los Angeles</td>\n",
       "      <td>19</td>\n",
       "      <td>NaN</td>\n",
       "      <td>34.585595</td>\n",
       "      <td>-118.423176</td>\n",
       "      <td>2013-05-30T15:28:00Z</td>\n",
       "    </tr>\n",
       "    <tr>\n",
       "      <th>2</th>\n",
       "      <td>27531.0</td>\n",
       "      <td>NaN</td>\n",
       "      <td>CAL FIRE Riverside Unit / San Bernardino Natio...</td>\n",
       "      <td>Riverside</td>\n",
       "      <td>33</td>\n",
       "      <td>NaN</td>\n",
       "      <td>33.709500</td>\n",
       "      <td>-116.728850</td>\n",
       "      <td>2013-07-15T13:43:00Z</td>\n",
       "    </tr>\n",
       "    <tr>\n",
       "      <th>3</th>\n",
       "      <td>27440.0</td>\n",
       "      <td>NaN</td>\n",
       "      <td>Tahoe National Forest</td>\n",
       "      <td>Placer</td>\n",
       "      <td>31</td>\n",
       "      <td>NaN</td>\n",
       "      <td>39.120000</td>\n",
       "      <td>-120.650000</td>\n",
       "      <td>2013-08-10T16:30:00Z</td>\n",
       "    </tr>\n",
       "    <tr>\n",
       "      <th>4</th>\n",
       "      <td>24251.0</td>\n",
       "      <td>NaN</td>\n",
       "      <td>Ventura County Fire/CAL FIRE</td>\n",
       "      <td>Ventura</td>\n",
       "      <td>56</td>\n",
       "      <td>117.0</td>\n",
       "      <td>0.000000</td>\n",
       "      <td>0.000000</td>\n",
       "      <td>2013-05-02T07:01:00Z</td>\n",
       "    </tr>\n",
       "  </tbody>\n",
       "</table>\n",
       "</div>"
      ],
      "text/plain": [
       "   AcresBurned  AirTankers                                          AdminUnit  \\\n",
       "0     257314.0         NaN  Stanislaus National Forest/Yosemite National Park   \n",
       "1      30274.0         NaN  USFS Angeles National Forest/Los Angeles Count...   \n",
       "2      27531.0         NaN  CAL FIRE Riverside Unit / San Bernardino Natio...   \n",
       "3      27440.0         NaN                              Tahoe National Forest   \n",
       "4      24251.0         NaN                       Ventura County Fire/CAL FIRE   \n",
       "\n",
       "      Counties CountyIds  Engines   Latitude   Longitude               Started  \n",
       "0     Tuolumne        55      NaN  37.857000 -120.086000  2013-08-17T15:25:00Z  \n",
       "1  Los Angeles        19      NaN  34.585595 -118.423176  2013-05-30T15:28:00Z  \n",
       "2    Riverside        33      NaN  33.709500 -116.728850  2013-07-15T13:43:00Z  \n",
       "3       Placer        31      NaN  39.120000 -120.650000  2013-08-10T16:30:00Z  \n",
       "4      Ventura        56    117.0   0.000000    0.000000  2013-05-02T07:01:00Z  "
      ]
     },
     "execution_count": 44,
     "metadata": {},
     "output_type": "execute_result"
    }
   ],
   "source": [
    "fire_df = fire[columns]\n",
    "print(len(fire_df))\n",
    "fire_df.head()"
   ]
  },
  {
   "cell_type": "code",
   "execution_count": 5,
   "id": "8f4ca340",
   "metadata": {
    "scrolled": true
   },
   "outputs": [
    {
     "data": {
      "text/plain": [
       "AcresBurned       3\n",
       "AirTankers     1608\n",
       "AdminUnit         0\n",
       "Counties          0\n",
       "CountyIds         0\n",
       "Engines        1445\n",
       "Latitude          0\n",
       "Longitude         0\n",
       "Started           0\n",
       "dtype: int64"
      ]
     },
     "execution_count": 5,
     "metadata": {},
     "output_type": "execute_result"
    }
   ],
   "source": [
    "fire_df.isna().sum()"
   ]
  },
  {
   "cell_type": "code",
   "execution_count": 62,
   "id": "d2588951",
   "metadata": {},
   "outputs": [],
   "source": [
    "#fire_df = fire_df.drop(['AirTankers', 'Engines', 'AdminUnit'], axis=1)\n",
    "fire_df = fire_df.dropna()\n",
    "fire_df = fire_df[fire_df['Latitude'] != float(0)]\n",
    "fire_df = fire_df[fire_df['Longitude'] != float(0)]\n",
    "len(fire_df)\n",
    "fire_df.to_csv('cleaned_fire.csv')"
   ]
  },
  {
   "cell_type": "code",
   "execution_count": 63,
   "id": "1b65e7c4",
   "metadata": {},
   "outputs": [
    {
     "name": "stdout",
     "output_type": "stream",
     "text": [
      "1479\n"
     ]
    }
   ],
   "source": [
    "fire_df.tail()\n",
    "print(len(fire_df))"
   ]
  },
  {
   "cell_type": "code",
   "execution_count": 8,
   "id": "417e24bb",
   "metadata": {
    "scrolled": true
   },
   "outputs": [
    {
     "data": {
      "text/plain": [
       "AcresBurned    float64\n",
       "Counties        object\n",
       "CountyIds       object\n",
       "Latitude       float64\n",
       "Longitude      float64\n",
       "Started         object\n",
       "dtype: object"
      ]
     },
     "execution_count": 8,
     "metadata": {},
     "output_type": "execute_result"
    }
   ],
   "source": [
    "fire_df.dtypes"
   ]
  },
  {
   "cell_type": "code",
   "execution_count": 49,
   "id": "1bf0f346",
   "metadata": {},
   "outputs": [],
   "source": [
    "months = []\n",
    "years = []\n",
    "for index, row in fire_df.iterrows():\n",
    "   #print(date)\n",
    "    month = row['Started'].split('-')[1]\n",
    "    year = row['Started'].split('-')[0]\n",
    "    months.append(np.float32(month))\n",
    "    years.append(np.float32(year))"
   ]
  },
  {
   "cell_type": "code",
   "execution_count": 50,
   "id": "2159bc5b",
   "metadata": {
    "scrolled": true
   },
   "outputs": [
    {
     "data": {
      "text/html": [
       "<div>\n",
       "<style scoped>\n",
       "    .dataframe tbody tr th:only-of-type {\n",
       "        vertical-align: middle;\n",
       "    }\n",
       "\n",
       "    .dataframe tbody tr th {\n",
       "        vertical-align: top;\n",
       "    }\n",
       "\n",
       "    .dataframe thead th {\n",
       "        text-align: right;\n",
       "    }\n",
       "</style>\n",
       "<table border=\"1\" class=\"dataframe\">\n",
       "  <thead>\n",
       "    <tr style=\"text-align: right;\">\n",
       "      <th></th>\n",
       "      <th>AcresBurned</th>\n",
       "      <th>Counties</th>\n",
       "      <th>CountyIds</th>\n",
       "      <th>Latitude</th>\n",
       "      <th>Longitude</th>\n",
       "      <th>Month</th>\n",
       "      <th>Year</th>\n",
       "    </tr>\n",
       "  </thead>\n",
       "  <tbody>\n",
       "    <tr>\n",
       "      <th>0</th>\n",
       "      <td>257314.0</td>\n",
       "      <td>Tuolumne</td>\n",
       "      <td>55</td>\n",
       "      <td>37.857000</td>\n",
       "      <td>-120.086000</td>\n",
       "      <td>8.0</td>\n",
       "      <td>2013.0</td>\n",
       "    </tr>\n",
       "    <tr>\n",
       "      <th>1</th>\n",
       "      <td>30274.0</td>\n",
       "      <td>Los Angeles</td>\n",
       "      <td>19</td>\n",
       "      <td>34.585595</td>\n",
       "      <td>-118.423176</td>\n",
       "      <td>5.0</td>\n",
       "      <td>2013.0</td>\n",
       "    </tr>\n",
       "    <tr>\n",
       "      <th>2</th>\n",
       "      <td>27531.0</td>\n",
       "      <td>Riverside</td>\n",
       "      <td>33</td>\n",
       "      <td>33.709500</td>\n",
       "      <td>-116.728850</td>\n",
       "      <td>7.0</td>\n",
       "      <td>2013.0</td>\n",
       "    </tr>\n",
       "    <tr>\n",
       "      <th>3</th>\n",
       "      <td>27440.0</td>\n",
       "      <td>Placer</td>\n",
       "      <td>31</td>\n",
       "      <td>39.120000</td>\n",
       "      <td>-120.650000</td>\n",
       "      <td>8.0</td>\n",
       "      <td>2013.0</td>\n",
       "    </tr>\n",
       "    <tr>\n",
       "      <th>5</th>\n",
       "      <td>22992.0</td>\n",
       "      <td>Fresno</td>\n",
       "      <td>10</td>\n",
       "      <td>37.279000</td>\n",
       "      <td>-119.318000</td>\n",
       "      <td>7.0</td>\n",
       "      <td>2013.0</td>\n",
       "    </tr>\n",
       "  </tbody>\n",
       "</table>\n",
       "</div>"
      ],
      "text/plain": [
       "   AcresBurned     Counties CountyIds   Latitude   Longitude  Month    Year\n",
       "0     257314.0     Tuolumne        55  37.857000 -120.086000    8.0  2013.0\n",
       "1      30274.0  Los Angeles        19  34.585595 -118.423176    5.0  2013.0\n",
       "2      27531.0    Riverside        33  33.709500 -116.728850    7.0  2013.0\n",
       "3      27440.0       Placer        31  39.120000 -120.650000    8.0  2013.0\n",
       "5      22992.0       Fresno        10  37.279000 -119.318000    7.0  2013.0"
      ]
     },
     "execution_count": 50,
     "metadata": {},
     "output_type": "execute_result"
    }
   ],
   "source": [
    "fire_df = fire_df.drop('Started', axis=1)\n",
    "fire_df['Month'] = months\n",
    "fire_df['Year'] = years\n",
    "fire_df.head()\n",
    "#fire_df.to_csv('Wildfires 2013-2019.csv')"
   ]
  },
  {
   "cell_type": "code",
   "execution_count": 51,
   "id": "89528dbd",
   "metadata": {},
   "outputs": [
    {
     "data": {
      "text/html": [
       "<div>\n",
       "<style scoped>\n",
       "    .dataframe tbody tr th:only-of-type {\n",
       "        vertical-align: middle;\n",
       "    }\n",
       "\n",
       "    .dataframe tbody tr th {\n",
       "        vertical-align: top;\n",
       "    }\n",
       "\n",
       "    .dataframe thead th {\n",
       "        text-align: right;\n",
       "    }\n",
       "</style>\n",
       "<table border=\"1\" class=\"dataframe\">\n",
       "  <thead>\n",
       "    <tr style=\"text-align: right;\">\n",
       "      <th></th>\n",
       "      <th>AcresBurned</th>\n",
       "      <th>Latitude</th>\n",
       "      <th>Longitude</th>\n",
       "      <th>Month</th>\n",
       "      <th>Year</th>\n",
       "    </tr>\n",
       "  </thead>\n",
       "  <tbody>\n",
       "    <tr>\n",
       "      <th>0</th>\n",
       "      <td>257314.0</td>\n",
       "      <td>37.857000</td>\n",
       "      <td>-120.086000</td>\n",
       "      <td>8.0</td>\n",
       "      <td>2013.0</td>\n",
       "    </tr>\n",
       "    <tr>\n",
       "      <th>1</th>\n",
       "      <td>30274.0</td>\n",
       "      <td>34.585595</td>\n",
       "      <td>-118.423176</td>\n",
       "      <td>5.0</td>\n",
       "      <td>2013.0</td>\n",
       "    </tr>\n",
       "    <tr>\n",
       "      <th>2</th>\n",
       "      <td>27531.0</td>\n",
       "      <td>33.709500</td>\n",
       "      <td>-116.728850</td>\n",
       "      <td>7.0</td>\n",
       "      <td>2013.0</td>\n",
       "    </tr>\n",
       "    <tr>\n",
       "      <th>3</th>\n",
       "      <td>27440.0</td>\n",
       "      <td>39.120000</td>\n",
       "      <td>-120.650000</td>\n",
       "      <td>8.0</td>\n",
       "      <td>2013.0</td>\n",
       "    </tr>\n",
       "    <tr>\n",
       "      <th>5</th>\n",
       "      <td>22992.0</td>\n",
       "      <td>37.279000</td>\n",
       "      <td>-119.318000</td>\n",
       "      <td>7.0</td>\n",
       "      <td>2013.0</td>\n",
       "    </tr>\n",
       "    <tr>\n",
       "      <th>...</th>\n",
       "      <td>...</td>\n",
       "      <td>...</td>\n",
       "      <td>...</td>\n",
       "      <td>...</td>\n",
       "      <td>...</td>\n",
       "    </tr>\n",
       "    <tr>\n",
       "      <th>1628</th>\n",
       "      <td>10.0</td>\n",
       "      <td>39.423833</td>\n",
       "      <td>-121.579738</td>\n",
       "      <td>7.0</td>\n",
       "      <td>2019.0</td>\n",
       "    </tr>\n",
       "    <tr>\n",
       "      <th>1629</th>\n",
       "      <td>10.0</td>\n",
       "      <td>41.946220</td>\n",
       "      <td>-122.401570</td>\n",
       "      <td>6.0</td>\n",
       "      <td>2019.0</td>\n",
       "    </tr>\n",
       "    <tr>\n",
       "      <th>1630</th>\n",
       "      <td>10.0</td>\n",
       "      <td>39.839580</td>\n",
       "      <td>-121.957000</td>\n",
       "      <td>4.0</td>\n",
       "      <td>2019.0</td>\n",
       "    </tr>\n",
       "    <tr>\n",
       "      <th>1631</th>\n",
       "      <td>9.0</td>\n",
       "      <td>33.827979</td>\n",
       "      <td>-117.499619</td>\n",
       "      <td>10.0</td>\n",
       "      <td>2019.0</td>\n",
       "    </tr>\n",
       "    <tr>\n",
       "      <th>1632</th>\n",
       "      <td>2.0</td>\n",
       "      <td>39.409722</td>\n",
       "      <td>-121.000556</td>\n",
       "      <td>6.0</td>\n",
       "      <td>2019.0</td>\n",
       "    </tr>\n",
       "  </tbody>\n",
       "</table>\n",
       "<p>1479 rows × 5 columns</p>\n",
       "</div>"
      ],
      "text/plain": [
       "      AcresBurned   Latitude   Longitude  Month    Year\n",
       "0        257314.0  37.857000 -120.086000    8.0  2013.0\n",
       "1         30274.0  34.585595 -118.423176    5.0  2013.0\n",
       "2         27531.0  33.709500 -116.728850    7.0  2013.0\n",
       "3         27440.0  39.120000 -120.650000    8.0  2013.0\n",
       "5         22992.0  37.279000 -119.318000    7.0  2013.0\n",
       "...           ...        ...         ...    ...     ...\n",
       "1628         10.0  39.423833 -121.579738    7.0  2019.0\n",
       "1629         10.0  41.946220 -122.401570    6.0  2019.0\n",
       "1630         10.0  39.839580 -121.957000    4.0  2019.0\n",
       "1631          9.0  33.827979 -117.499619   10.0  2019.0\n",
       "1632          2.0  39.409722 -121.000556    6.0  2019.0\n",
       "\n",
       "[1479 rows x 5 columns]"
      ]
     },
     "execution_count": 51,
     "metadata": {},
     "output_type": "execute_result"
    }
   ],
   "source": [
    "labels = fire_df['Counties']\n",
    "features = fire_df.drop(['Counties', 'CountyIds'], axis=1)\n",
    "features"
   ]
  },
  {
   "cell_type": "code",
   "execution_count": 55,
   "id": "eed2928b",
   "metadata": {
    "scrolled": false
   },
   "outputs": [
    {
     "data": {
      "text/plain": [
       "array([0, 0, 0, 0, 0, 0, 0, 0, 0, 0, 0, 0, 0, 0, 0, 0, 0, 0, 0, 0, 0, 0,\n",
       "       0, 0, 0, 0, 0, 0, 0, 0, 0, 0, 0, 0, 0, 0, 0, 0, 0, 0, 0, 0, 0, 0,\n",
       "       0, 0, 0, 0, 0, 0, 0, 0, 0, 0, 0, 1, 0, 0, 0], dtype=uint8)"
      ]
     },
     "execution_count": 55,
     "metadata": {},
     "output_type": "execute_result"
    }
   ],
   "source": [
    "dummies = pd.get_dummies(labels)\n",
    "county_names = dummies.columns\n",
    "#print(county_names)\n",
    "one_hot_labels = dummies.to_numpy()\n",
    "scaler = MinMaxScaler()\n",
    "#acres = features['AcresBurned'].to_numpy().reshape(-1,1)\n",
    "scaled = scaler.fit_transform(features)\n",
    "one_hot_labels[0]"
   ]
  },
  {
   "cell_type": "code",
   "execution_count": 56,
   "id": "dd74c150",
   "metadata": {},
   "outputs": [
    {
     "name": "stdout",
     "output_type": "stream",
     "text": [
      "(1479, 5)\n"
     ]
    },
    {
     "data": {
      "text/plain": [
       "(1479, 59)"
      ]
     },
     "execution_count": 56,
     "metadata": {},
     "output_type": "execute_result"
    }
   ],
   "source": [
    "print(features.shape)\n",
    "one_hot_labels.shape"
   ]
  },
  {
   "cell_type": "code",
   "execution_count": 57,
   "id": "d4954bf2",
   "metadata": {},
   "outputs": [],
   "source": [
    "X_train, X_test, y_train, y_test = train_test_split(scaled, one_hot_labels, test_size=0.2)"
   ]
  },
  {
   "cell_type": "markdown",
   "id": "3efc13b9",
   "metadata": {},
   "source": [
    "## Rough draft model\n"
   ]
  },
  {
   "cell_type": "code",
   "execution_count": 20,
   "id": "6606014f",
   "metadata": {},
   "outputs": [],
   "source": [
    "import sys\n",
    "import os\n",
    "from sklearn.model_selection import train_test_split\n",
    "from sklearn.preprocessing import StandardScaler, MinMaxScaler\n",
    "from sklearn.metrics import classification_report, confusion_matrix\n",
    "\n",
    "import tensorflow as tf\n",
    "# from tensorflow import keras\n",
    "from tensorflow.keras import layers, Sequential, Input\n",
    "from tensorflow.keras.layers import Dense, Conv2D, MaxPool2D, Flatten, Dropout, concatenate\n",
    "# from tensorflow.keras.layers.core import *\n",
    "from tensorflow.keras.models import Model\n",
    "from tensorflow.keras.layers.experimental import preprocessing\n",
    "# from tensorflow.keras.applications.vgg16 import VGG16, preprocess_input\n"
   ]
  },
  {
   "cell_type": "markdown",
   "id": "841958a0",
   "metadata": {},
   "source": [
    "def build_dnn():\n",
    "\n",
    "    \n",
    "    normalizer = layers.BatchNormalization(momentum=0.98, epsilon=.001, trainable=True)\n",
    "\n",
    "    model = Sequential([\n",
    "\n",
    "        #normalizer,\n",
    "        layers.Dense(24, activation='relu'),\n",
    "        layers.Dense(16, activation='relu'),\n",
    "        layers.Dense(8, activation='relu'),\n",
    "        layers.Dense(1)\n",
    "    ])\n",
    "    model = Model([img_input, num_input], out)\n",
    "    model.compile(loss='binary_crossentropy', optimizer=tf.keras.optimizers.Adam(0.0001), metrics=['accuracy'])\n",
    "    print(\"Model compiled\")\n",
    "    return model"
   ]
  },
  {
   "cell_type": "code",
   "execution_count": 21,
   "id": "df8d5302",
   "metadata": {},
   "outputs": [],
   "source": [
    "def build_dnn(input_shape, numclasses):\n",
    "    feature_input = Input(shape=input_shape)\n",
    "    model = Dense(8, activation='relu')(feature_input)\n",
    "    model = Dense(4, activation='relu')(model)\n",
    "    model = Dense(1, activation='relu')(model)\n",
    "    output = Dense(numclasses, activation='sigmoid')(model)\n",
    "    model = Model(inputs=feature_input, outputs=output)\n",
    "    print(model.summary())\n",
    "    return(model)"
   ]
  },
  {
   "cell_type": "code",
   "execution_count": 64,
   "id": "679f951a",
   "metadata": {},
   "outputs": [],
   "source": [
    "def merged_build_dnn(fire_shape, climate_shape, numclasses):\n",
    "    fire_input = Input(shape=fire_shape)\n",
    "    model1 = Dense(64, activation='relu')(fire_input)\n",
    "    model1 = Dense(16, activation='relu')(model1)\n",
    "    #model1 = Dense(4, activation='relu')(model1)\n",
    "    \n",
    "    output1 = Dense(4, activation='relu')(model1)\n",
    "    \n",
    "    climate_input = Input(shape=climate_shape)\n",
    "    model2 = Dense(64, activation='relu')(climate_input)\n",
    "    model2 = Dense(16, activation='relu')(model2)\n",
    "    output2 = Dense(4, activation='relu')(model2)\n",
    "    \n",
    "    merged_model = concatenate([output1, output2])\n",
    "    \n",
    "    dp1 = Dense(4, activation='relu')(merged_model)\n",
    "    output = Dense(1, activation='sigmoid')(dp1)\n",
    "\n",
    "    model = Model(inputs=[fire_input, climate_input], outputs=output)\n",
    "    print(model.summary())\n",
    "    return(model)"
   ]
  },
  {
   "cell_type": "code",
   "execution_count": 22,
   "id": "c2e8dfdd",
   "metadata": {},
   "outputs": [
    {
     "name": "stdout",
     "output_type": "stream",
     "text": [
      "Model: \"model\"\n",
      "_________________________________________________________________\n",
      "Layer (type)                 Output Shape              Param #   \n",
      "=================================================================\n",
      "input_1 (InputLayer)         [(None, 5)]               0         \n",
      "_________________________________________________________________\n",
      "dense (Dense)                (None, 8)                 48        \n",
      "_________________________________________________________________\n",
      "dense_1 (Dense)              (None, 4)                 36        \n",
      "_________________________________________________________________\n",
      "dense_2 (Dense)              (None, 1)                 5         \n",
      "_________________________________________________________________\n",
      "dense_3 (Dense)              (None, 59)                118       \n",
      "=================================================================\n",
      "Total params: 207\n",
      "Trainable params: 207\n",
      "Non-trainable params: 0\n",
      "_________________________________________________________________\n",
      "None\n"
     ]
    }
   ],
   "source": [
    "model = build_dnn((5,), len(one_hot_labels[0]))"
   ]
  },
  {
   "cell_type": "code",
   "execution_count": 59,
   "id": "36004210",
   "metadata": {
    "scrolled": true
   },
   "outputs": [
    {
     "name": "stdout",
     "output_type": "stream",
     "text": [
      "Epoch 1/10\n",
      "30/30 [==============================] - 0s 4ms/step - loss: 4.0702 - accuracy: 0.0941 - val_loss: 4.0707 - val_accuracy: 0.0675\n",
      "Epoch 2/10\n",
      "30/30 [==============================] - 0s 3ms/step - loss: 4.0696 - accuracy: 0.0941 - val_loss: 4.0701 - val_accuracy: 0.0675\n",
      "Epoch 3/10\n",
      "30/30 [==============================] - 0s 5ms/step - loss: 4.0689 - accuracy: 0.0941 - val_loss: 4.0696 - val_accuracy: 0.0675\n",
      "Epoch 4/10\n",
      "30/30 [==============================] - 0s 5ms/step - loss: 4.0682 - accuracy: 0.0941 - val_loss: 4.0690 - val_accuracy: 0.0675\n",
      "Epoch 5/10\n",
      "30/30 [==============================] - 0s 2ms/step - loss: 4.0676 - accuracy: 0.0941 - val_loss: 4.0684 - val_accuracy: 0.0675\n",
      "Epoch 6/10\n",
      "30/30 [==============================] - 0s 3ms/step - loss: 4.0669 - accuracy: 0.0941 - val_loss: 4.0679 - val_accuracy: 0.0675\n",
      "Epoch 7/10\n",
      "30/30 [==============================] - 0s 3ms/step - loss: 4.0662 - accuracy: 0.0941 - val_loss: 4.0673 - val_accuracy: 0.0675\n",
      "Epoch 8/10\n",
      "30/30 [==============================] - 0s 2ms/step - loss: 4.0656 - accuracy: 0.0941 - val_loss: 4.0668 - val_accuracy: 0.0675\n",
      "Epoch 9/10\n",
      "30/30 [==============================] - 0s 5ms/step - loss: 4.0649 - accuracy: 0.0941 - val_loss: 4.0662 - val_accuracy: 0.0675\n",
      "Epoch 10/10\n",
      "30/30 [==============================] - 0s 5ms/step - loss: 4.0643 - accuracy: 0.0941 - val_loss: 4.0656 - val_accuracy: 0.0675\n"
     ]
    },
    {
     "data": {
      "text/plain": [
       "[4.065078258514404, 0.08445946127176285]"
      ]
     },
     "execution_count": 59,
     "metadata": {},
     "output_type": "execute_result"
    }
   ],
   "source": [
    "model.compile(loss='categorical_crossentropy', optimizer=tf.keras.optimizers.Adam(0.0001), metrics=['accuracy'])\n",
    "\n",
    "model.fit(X_train, y_train, validation_split=0.2, epochs=10)\n",
    "model.evaluate(X_test, y_test, verbose=0)\n"
   ]
  },
  {
   "cell_type": "code",
   "execution_count": 60,
   "id": "7db168d3",
   "metadata": {},
   "outputs": [
    {
     "name": "stdout",
     "output_type": "stream",
     "text": [
      "['Shasta', 'Lake', 'Yuba', 'San Luis Obispo', 'Tulare', 'Alameda', 'Butte', 'Butte', 'Stanislaus', 'Santa Clara', 'Placer', 'Shasta', 'Modoc', 'Mendocino', 'Alameda', 'San Bernardino', 'Riverside', 'Fresno', 'San Diego', 'Madera', 'San Diego', 'Riverside', 'Los Angeles', 'Mariposa', 'Alameda', 'Napa', 'Humboldt', 'Kern', 'Madera', 'Stanislaus', 'Kern', 'Mariposa', 'Riverside', 'Solano', 'Los Angeles', 'Contra Costa', 'Riverside', 'Trinity', 'Tuolumne', 'Yuba', 'San Diego', 'Plumas', 'Tehama', 'Tulare', 'Yuba', 'Fresno', 'Calaveras', 'Riverside', 'San Bernardino', 'El Dorado', 'Riverside', 'Riverside', 'Lassen', 'San Benito', 'Riverside', 'Riverside', 'Merced', 'Merced', 'Mono', 'Monterey', 'Kern', 'Butte', 'Butte', 'Calaveras', 'Tuolumne', 'Tuolumne', 'Siskiyou', 'Kern', 'Mendocino', 'Modoc', 'Santa Clara', 'Amador', 'Siskiyou', 'Santa Clara', 'San Luis Obispo', 'Madera', 'Modoc', 'Monterey', 'Kern', 'San Bernardino', 'Shasta', 'Siskiyou', 'San Bernardino', 'Humboldt', 'Ventura', 'Lassen', 'Humboldt', 'Inyo', 'Shasta', 'Del Norte', 'Amador', 'Siskiyou', 'Mendocino', 'Siskiyou', 'Monterey', 'San Bernardino', 'San Diego', 'Tehama', 'San Diego', 'Mono', 'Humboldt', 'Riverside', 'Kern', 'Tuolumne', 'Siskiyou', 'Butte', 'Riverside', 'Madera', 'Mendocino', 'Napa', 'Tuolumne', 'San Luis Obispo', 'Tulare', 'Modoc', 'Modoc', 'Butte', 'Butte', 'Lassen', 'Tehama', 'Santa Clara', 'Modoc', 'Santa Barbara', 'Tehama', 'Shasta', 'Riverside', 'Los Angeles', 'Lake', 'Lake', 'Riverside', 'Plumas', 'Placer', 'Kern', 'El Dorado', 'Shasta', 'Shasta', 'Tehama', 'Tulare', 'San Luis Obispo', 'Santa Barbara', 'Santa Clara', 'Tulare', 'Madera', 'Madera', 'Lassen', 'Tulare', 'Fresno', 'San Diego', 'Riverside', 'Kern', 'Lassen', 'Placer', 'Los Angeles', 'Lake', 'Santa Clara', 'Mono', 'Marin', 'Lassen', 'Lassen', 'San Benito', 'Calaveras', 'Alameda', 'San Diego', 'Stanislaus', 'Merced', 'Sacramento', 'Trinity', 'Madera', 'Contra Costa', 'Santa Cruz', 'El Dorado', 'Fresno', 'Alameda', 'San Benito', 'Riverside', 'Kern', 'Riverside', 'Monterey', 'Butte', 'Santa Clara', 'Fresno', 'Alameda', 'Madera', 'Ventura', 'San Joaquin', 'Calaveras', 'Mariposa', 'Glenn', 'Alameda', 'Siskiyou', 'Lassen', 'Siskiyou', 'Trinity', 'Lake', 'Calaveras', 'Tulare', 'Mono', 'Fresno', 'Madera', 'Orange', 'Shasta', 'Lake', 'San Joaquin', 'Lassen', 'Colusa', 'Tulare', 'Madera', 'San Bernardino', 'Mendocino', 'Butte', 'Tehama', 'Fresno', 'Monterey', 'Fresno', 'Butte', 'Calaveras', 'Yuba', 'Riverside', 'Modoc', 'Riverside', 'El Dorado', 'Contra Costa', 'Tulare', 'Los Angeles', 'Trinity', 'Humboldt', 'Riverside', 'San Bernardino', 'Mendocino', 'Riverside', 'San Luis Obispo', 'Los Angeles', 'Siskiyou', 'San Luis Obispo', 'Siskiyou', 'El Dorado', 'Nevada', 'Alameda', 'Riverside', 'Butte', 'Los Angeles', 'Madera', 'Alameda', 'Madera', 'San Luis Obispo', 'El Dorado', 'Contra Costa', 'Fresno', 'Stanislaus', 'Kern', 'San Bernardino', 'Siskiyou', 'Santa Barbara', 'Siskiyou', 'Lassen', 'Humboldt', 'Sacramento', 'Los Angeles', 'Riverside', 'Orange', 'Santa Cruz', 'El Dorado', 'Plumas', 'Nevada', 'San Luis Obispo', 'Yuba', 'Mendocino', 'Stanislaus', 'Sonoma', 'Riverside', 'San Diego', 'San Luis Obispo', 'Fresno', 'Siskiyou', 'San Diego', 'El Dorado', 'San Bernardino', 'Sonoma', 'San Bernardino', 'Los Angeles', 'Riverside', 'Tehama', 'San Bernardino', 'Monterey', 'San Luis Obispo', 'Tehama', 'Shasta', 'Stanislaus', 'El Dorado', 'San Diego', 'El Dorado', 'Kern', 'Napa', 'Tulare', 'Fresno', 'Riverside', 'San Bernardino']\n",
      "['Riverside', 'Riverside', 'Riverside', 'Riverside', 'Riverside', 'Riverside', 'Riverside', 'Riverside', 'Riverside', 'Riverside', 'Riverside', 'Riverside', 'Riverside', 'Riverside', 'Riverside', 'Riverside', 'Riverside', 'Riverside', 'Riverside', 'Riverside', 'Riverside', 'Riverside', 'Riverside', 'Riverside', 'Riverside', 'Riverside', 'Riverside', 'Riverside', 'Riverside', 'Riverside', 'Riverside', 'Riverside', 'Riverside', 'Riverside', 'Riverside', 'Riverside', 'Riverside', 'Riverside', 'Riverside', 'Riverside', 'Riverside', 'Riverside', 'Riverside', 'Riverside', 'Riverside', 'Riverside', 'Riverside', 'Riverside', 'Riverside', 'Riverside', 'Riverside', 'Riverside', 'Riverside', 'Riverside', 'Riverside', 'Riverside', 'Riverside', 'Riverside', 'Riverside', 'Riverside', 'Riverside', 'Riverside', 'Riverside', 'Riverside', 'Riverside', 'Riverside', 'Riverside', 'Riverside', 'Riverside', 'Riverside', 'Riverside', 'Riverside', 'Riverside', 'Riverside', 'Riverside', 'Riverside', 'Riverside', 'Riverside', 'Riverside', 'Riverside', 'Riverside', 'Riverside', 'Riverside', 'Riverside', 'Riverside', 'Riverside', 'Riverside', 'Riverside', 'Riverside', 'Riverside', 'Riverside', 'Riverside', 'Riverside', 'Riverside', 'Riverside', 'Riverside', 'Riverside', 'Riverside', 'Riverside', 'Riverside', 'Riverside', 'Riverside', 'Riverside', 'Riverside', 'Riverside', 'Riverside', 'Riverside', 'Riverside', 'Riverside', 'Riverside', 'Riverside', 'Riverside', 'Riverside', 'Riverside', 'Riverside', 'Riverside', 'Riverside', 'Riverside', 'Riverside', 'Riverside', 'Riverside', 'Riverside', 'Riverside', 'Riverside', 'Riverside', 'Riverside', 'Riverside', 'Riverside', 'Riverside', 'Riverside', 'Riverside', 'Riverside', 'Riverside', 'Riverside', 'Riverside', 'Riverside', 'Riverside', 'Riverside', 'Riverside', 'Riverside', 'Riverside', 'Riverside', 'Riverside', 'Riverside', 'Riverside', 'Riverside', 'Riverside', 'Riverside', 'Riverside', 'Riverside', 'Riverside', 'Riverside', 'Riverside', 'Riverside', 'Riverside', 'Riverside', 'Riverside', 'Riverside', 'Riverside', 'Riverside', 'Riverside', 'Riverside', 'Riverside', 'Riverside', 'Riverside', 'Riverside', 'Riverside', 'Riverside', 'Riverside', 'Riverside', 'Riverside', 'Riverside', 'Riverside', 'Riverside', 'Riverside', 'Riverside', 'Riverside', 'Riverside', 'Riverside', 'Riverside', 'Riverside', 'Riverside', 'Riverside', 'Riverside', 'Riverside', 'Riverside', 'Riverside', 'Riverside', 'Riverside', 'Riverside', 'Riverside', 'Riverside', 'Riverside', 'Riverside', 'Riverside', 'Riverside', 'Riverside', 'Riverside', 'Riverside', 'Riverside', 'Riverside', 'Riverside', 'Riverside', 'Riverside', 'Riverside', 'Riverside', 'Riverside', 'Riverside', 'Riverside', 'Riverside', 'Riverside', 'Riverside', 'Riverside', 'Riverside', 'Riverside', 'Riverside', 'Riverside', 'Riverside', 'Riverside', 'Riverside', 'Riverside', 'Riverside', 'Riverside', 'Riverside', 'Riverside', 'Riverside', 'Riverside', 'Riverside', 'Riverside', 'Riverside', 'Riverside', 'Riverside', 'Riverside', 'Riverside', 'Riverside', 'Riverside', 'Riverside', 'Riverside', 'Riverside', 'Riverside', 'Riverside', 'Riverside', 'Riverside', 'Riverside', 'Riverside', 'Riverside', 'Riverside', 'Riverside', 'Riverside', 'Riverside', 'Riverside', 'Riverside', 'Riverside', 'Riverside', 'Riverside', 'Riverside', 'Riverside', 'Riverside', 'Riverside', 'Riverside', 'Riverside', 'Riverside', 'Riverside', 'Riverside', 'Riverside', 'Riverside', 'Riverside', 'Riverside', 'Riverside', 'Riverside', 'Riverside', 'Riverside', 'Riverside', 'Riverside', 'Riverside', 'Riverside', 'Riverside', 'Riverside', 'Riverside', 'Riverside', 'Riverside', 'Riverside', 'Riverside', 'Riverside', 'Riverside', 'Riverside', 'Riverside', 'Riverside', 'Riverside', 'Riverside', 'Riverside', 'Riverside', 'Riverside', 'Riverside', 'Riverside', 'Riverside']\n"
     ]
    }
   ],
   "source": [
    "truth = y_test.argmax(axis=1) #.argmax(axis=1)\n",
    "\n",
    "def get_names(data):\n",
    "    county_labels = []\n",
    "    for i in np.arange(len(data)):\n",
    "        county = county_names[data[i]]\n",
    "        county_labels.append(county)\n",
    "    return county_labels\n",
    "#print(county_labels)\n",
    "truth_labels = get_names(truth)\n",
    "\n",
    "predic = model.predict(X_test)\n",
    "predic = predic.argmax(axis=1)\n",
    "predic_labels = get_names(predic)\n",
    "print(truth_labels)\n",
    "print(predic_labels)"
   ]
  },
  {
   "cell_type": "code",
   "execution_count": 34,
   "id": "86bfa02d",
   "metadata": {},
   "outputs": [
    {
     "data": {
      "text/plain": [
       "'Alameda'"
      ]
     },
     "execution_count": 34,
     "metadata": {},
     "output_type": "execute_result"
    }
   ],
   "source": [
    "county_names[0]"
   ]
  },
  {
   "cell_type": "code",
   "execution_count": null,
   "id": "7eb6a631",
   "metadata": {},
   "outputs": [],
   "source": []
  }
 ],
 "metadata": {
  "kernelspec": {
   "display_name": "mlenv",
   "language": "python",
   "name": "mlenv"
  },
  "language_info": {
   "codemirror_mode": {
    "name": "ipython",
    "version": 3
   },
   "file_extension": ".py",
   "mimetype": "text/x-python",
   "name": "python",
   "nbconvert_exporter": "python",
   "pygments_lexer": "ipython3",
   "version": "3.7.10"
  }
 },
 "nbformat": 4,
 "nbformat_minor": 5
}
